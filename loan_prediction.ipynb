{
 "cells": [
  {
   "cell_type": "markdown",
   "metadata": {},
   "source": [
    "## Adhya Borisa \n",
    
   ]
  },
  {
   "cell_type": "markdown",
   "metadata": {},
   "source": [
    "# Project: **Loan Prediction** "
   ]
  },
  {
   "cell_type": "markdown",
   "metadata": {},
   "source": [
    "## **1. Importing Libraries**"
   ]
  },
  {
   "cell_type": "code",
   "execution_count": 1,
   "metadata": {},
   "outputs": [],
   "source": [
    "import pandas as pd\n",
    "import numpy as np\n",
    "import matplotlib.pyplot as plt\n",
    "import seaborn as sns\n",
    "import warnings\n",
    "warnings.filterwarnings('ignore')"
   ]
  },
  {
   "cell_type": "markdown",
   "metadata": {},
   "source": [
    "## **2. Loading the Data from CSV into a DataFrame**"
   ]
  },
  {
   "cell_type": "code",
   "execution_count": 2,
   "metadata": {},
   "outputs": [],
   "source": [
    "df=pd.read_csv('Training Data.csv')"
   ]
  },
  {
   "cell_type": "markdown",
   "metadata": {},
   "source": [
    "## **3. Knowing the Data**"
   ]
  },
  {
   "cell_type": "markdown",
   "metadata": {},
   "source": [
    "### 3.1 - Columns of dataset"
   ]
  },
  {
   "cell_type": "code",
   "execution_count": 3,
   "metadata": {},
   "outputs": [
    {
     "data": {
      "text/plain": [
       "Index(['Id', 'Income', 'Age', 'Experience', 'Married/Single',\n",
       "       'House_Ownership', 'Car_Ownership', 'Profession', 'CITY', 'STATE',\n",
       "       'CURRENT_JOB_YRS', 'CURRENT_HOUSE_YRS', 'Risk_Flag'],\n",
       "      dtype='object')"
      ]
     },
     "execution_count": 3,
     "metadata": {},
     "output_type": "execute_result"
    }
   ],
   "source": [
    "df.columns"
   ]
  },
  {
   "cell_type": "markdown",
   "metadata": {},
   "source": [
    "### 3.2 - Basic information about data"
   ]
  },
  {
   "cell_type": "code",
   "execution_count": 4,
   "metadata": {},
   "outputs": [
    {
     "name": "stdout",
     "output_type": "stream",
     "text": [
      "<class 'pandas.core.frame.DataFrame'>\n",
      "RangeIndex: 252000 entries, 0 to 251999\n",
      "Data columns (total 13 columns):\n",
      " #   Column             Non-Null Count   Dtype \n",
      "---  ------             --------------   ----- \n",
      " 0   Id                 252000 non-null  int64 \n",
      " 1   Income             252000 non-null  int64 \n",
      " 2   Age                252000 non-null  int64 \n",
      " 3   Experience         252000 non-null  int64 \n",
      " 4   Married/Single     252000 non-null  object\n",
      " 5   House_Ownership    252000 non-null  object\n",
      " 6   Car_Ownership      252000 non-null  object\n",
      " 7   Profession         252000 non-null  object\n",
      " 8   CITY               252000 non-null  object\n",
      " 9   STATE              252000 non-null  object\n",
      " 10  CURRENT_JOB_YRS    252000 non-null  int64 \n",
      " 11  CURRENT_HOUSE_YRS  252000 non-null  int64 \n",
      " 12  Risk_Flag          252000 non-null  int64 \n",
      "dtypes: int64(7), object(6)\n",
      "memory usage: 25.0+ MB\n"
     ]
    }
   ],
   "source": [
    "df.info()"
   ]
  },
  {
   "cell_type": "markdown",
   "metadata": {},
   "source": [
    "### 3.3 - Knowing basic Statistics of Data"
   ]
  },
  {
   "cell_type": "code",
   "execution_count": 5,
   "metadata": {},
   "outputs": [
    {
     "data": {
      "text/html": [
       "<div>\n",
       "<style scoped>\n",
       "    .dataframe tbody tr th:only-of-type {\n",
       "        vertical-align: middle;\n",
       "    }\n",
       "\n",
       "    .dataframe tbody tr th {\n",
       "        vertical-align: top;\n",
       "    }\n",
       "\n",
       "    .dataframe thead th {\n",
       "        text-align: right;\n",
       "    }\n",
       "</style>\n",
       "<table border=\"1\" class=\"dataframe\">\n",
       "  <thead>\n",
       "    <tr style=\"text-align: right;\">\n",
       "      <th></th>\n",
       "      <th>Id</th>\n",
       "      <th>Income</th>\n",
       "      <th>Age</th>\n",
       "      <th>Experience</th>\n",
       "      <th>CURRENT_JOB_YRS</th>\n",
       "      <th>CURRENT_HOUSE_YRS</th>\n",
       "      <th>Risk_Flag</th>\n",
       "    </tr>\n",
       "  </thead>\n",
       "  <tbody>\n",
       "    <tr>\n",
       "      <th>count</th>\n",
       "      <td>252000.000000</td>\n",
       "      <td>2.520000e+05</td>\n",
       "      <td>252000.000000</td>\n",
       "      <td>252000.000000</td>\n",
       "      <td>252000.000000</td>\n",
       "      <td>252000.000000</td>\n",
       "      <td>252000.000000</td>\n",
       "    </tr>\n",
       "    <tr>\n",
       "      <th>mean</th>\n",
       "      <td>126000.500000</td>\n",
       "      <td>4.997117e+06</td>\n",
       "      <td>49.954071</td>\n",
       "      <td>10.084437</td>\n",
       "      <td>6.333877</td>\n",
       "      <td>11.997794</td>\n",
       "      <td>0.123000</td>\n",
       "    </tr>\n",
       "    <tr>\n",
       "      <th>std</th>\n",
       "      <td>72746.278255</td>\n",
       "      <td>2.878311e+06</td>\n",
       "      <td>17.063855</td>\n",
       "      <td>6.002590</td>\n",
       "      <td>3.647053</td>\n",
       "      <td>1.399037</td>\n",
       "      <td>0.328438</td>\n",
       "    </tr>\n",
       "    <tr>\n",
       "      <th>min</th>\n",
       "      <td>1.000000</td>\n",
       "      <td>1.031000e+04</td>\n",
       "      <td>21.000000</td>\n",
       "      <td>0.000000</td>\n",
       "      <td>0.000000</td>\n",
       "      <td>10.000000</td>\n",
       "      <td>0.000000</td>\n",
       "    </tr>\n",
       "    <tr>\n",
       "      <th>25%</th>\n",
       "      <td>63000.750000</td>\n",
       "      <td>2.503015e+06</td>\n",
       "      <td>35.000000</td>\n",
       "      <td>5.000000</td>\n",
       "      <td>3.000000</td>\n",
       "      <td>11.000000</td>\n",
       "      <td>0.000000</td>\n",
       "    </tr>\n",
       "    <tr>\n",
       "      <th>50%</th>\n",
       "      <td>126000.500000</td>\n",
       "      <td>5.000694e+06</td>\n",
       "      <td>50.000000</td>\n",
       "      <td>10.000000</td>\n",
       "      <td>6.000000</td>\n",
       "      <td>12.000000</td>\n",
       "      <td>0.000000</td>\n",
       "    </tr>\n",
       "    <tr>\n",
       "      <th>75%</th>\n",
       "      <td>189000.250000</td>\n",
       "      <td>7.477502e+06</td>\n",
       "      <td>65.000000</td>\n",
       "      <td>15.000000</td>\n",
       "      <td>9.000000</td>\n",
       "      <td>13.000000</td>\n",
       "      <td>0.000000</td>\n",
       "    </tr>\n",
       "    <tr>\n",
       "      <th>max</th>\n",
       "      <td>252000.000000</td>\n",
       "      <td>9.999938e+06</td>\n",
       "      <td>79.000000</td>\n",
       "      <td>20.000000</td>\n",
       "      <td>14.000000</td>\n",
       "      <td>14.000000</td>\n",
       "      <td>1.000000</td>\n",
       "    </tr>\n",
       "  </tbody>\n",
       "</table>\n",
       "</div>"
      ],
      "text/plain": [
       "                  Id        Income            Age     Experience  \\\n",
       "count  252000.000000  2.520000e+05  252000.000000  252000.000000   \n",
       "mean   126000.500000  4.997117e+06      49.954071      10.084437   \n",
       "std     72746.278255  2.878311e+06      17.063855       6.002590   \n",
       "min         1.000000  1.031000e+04      21.000000       0.000000   \n",
       "25%     63000.750000  2.503015e+06      35.000000       5.000000   \n",
       "50%    126000.500000  5.000694e+06      50.000000      10.000000   \n",
       "75%    189000.250000  7.477502e+06      65.000000      15.000000   \n",
       "max    252000.000000  9.999938e+06      79.000000      20.000000   \n",
       "\n",
       "       CURRENT_JOB_YRS  CURRENT_HOUSE_YRS      Risk_Flag  \n",
       "count    252000.000000      252000.000000  252000.000000  \n",
       "mean          6.333877          11.997794       0.123000  \n",
       "std           3.647053           1.399037       0.328438  \n",
       "min           0.000000          10.000000       0.000000  \n",
       "25%           3.000000          11.000000       0.000000  \n",
       "50%           6.000000          12.000000       0.000000  \n",
       "75%           9.000000          13.000000       0.000000  \n",
       "max          14.000000          14.000000       1.000000  "
      ]
     },
     "execution_count": 5,
     "metadata": {},
     "output_type": "execute_result"
    }
   ],
   "source": [
    "df.describe()"
   ]
  },
  {
   "cell_type": "markdown",
   "metadata": {},
   "source": [
    "### 3.4 - First five rows of Data"
   ]
  },
  {
   "cell_type": "code",
   "execution_count": 6,
   "metadata": {},
   "outputs": [
    {
     "data": {
      "text/html": [
       "<div>\n",
       "<style scoped>\n",
       "    .dataframe tbody tr th:only-of-type {\n",
       "        vertical-align: middle;\n",
       "    }\n",
       "\n",
       "    .dataframe tbody tr th {\n",
       "        vertical-align: top;\n",
       "    }\n",
       "\n",
       "    .dataframe thead th {\n",
       "        text-align: right;\n",
       "    }\n",
       "</style>\n",
       "<table border=\"1\" class=\"dataframe\">\n",
       "  <thead>\n",
       "    <tr style=\"text-align: right;\">\n",
       "      <th></th>\n",
       "      <th>Id</th>\n",
       "      <th>Income</th>\n",
       "      <th>Age</th>\n",
       "      <th>Experience</th>\n",
       "      <th>Married/Single</th>\n",
       "      <th>House_Ownership</th>\n",
       "      <th>Car_Ownership</th>\n",
       "      <th>Profession</th>\n",
       "      <th>CITY</th>\n",
       "      <th>STATE</th>\n",
       "      <th>CURRENT_JOB_YRS</th>\n",
       "      <th>CURRENT_HOUSE_YRS</th>\n",
       "      <th>Risk_Flag</th>\n",
       "    </tr>\n",
       "  </thead>\n",
       "  <tbody>\n",
       "    <tr>\n",
       "      <th>0</th>\n",
       "      <td>1</td>\n",
       "      <td>1303834</td>\n",
       "      <td>23</td>\n",
       "      <td>3</td>\n",
       "      <td>single</td>\n",
       "      <td>rented</td>\n",
       "      <td>no</td>\n",
       "      <td>Mechanical_engineer</td>\n",
       "      <td>Rewa</td>\n",
       "      <td>Madhya_Pradesh</td>\n",
       "      <td>3</td>\n",
       "      <td>13</td>\n",
       "      <td>0</td>\n",
       "    </tr>\n",
       "    <tr>\n",
       "      <th>1</th>\n",
       "      <td>2</td>\n",
       "      <td>7574516</td>\n",
       "      <td>40</td>\n",
       "      <td>10</td>\n",
       "      <td>single</td>\n",
       "      <td>rented</td>\n",
       "      <td>no</td>\n",
       "      <td>Software_Developer</td>\n",
       "      <td>Parbhani</td>\n",
       "      <td>Maharashtra</td>\n",
       "      <td>9</td>\n",
       "      <td>13</td>\n",
       "      <td>0</td>\n",
       "    </tr>\n",
       "    <tr>\n",
       "      <th>2</th>\n",
       "      <td>3</td>\n",
       "      <td>3991815</td>\n",
       "      <td>66</td>\n",
       "      <td>4</td>\n",
       "      <td>married</td>\n",
       "      <td>rented</td>\n",
       "      <td>no</td>\n",
       "      <td>Technical_writer</td>\n",
       "      <td>Alappuzha</td>\n",
       "      <td>Kerala</td>\n",
       "      <td>4</td>\n",
       "      <td>10</td>\n",
       "      <td>0</td>\n",
       "    </tr>\n",
       "    <tr>\n",
       "      <th>3</th>\n",
       "      <td>4</td>\n",
       "      <td>6256451</td>\n",
       "      <td>41</td>\n",
       "      <td>2</td>\n",
       "      <td>single</td>\n",
       "      <td>rented</td>\n",
       "      <td>yes</td>\n",
       "      <td>Software_Developer</td>\n",
       "      <td>Bhubaneswar</td>\n",
       "      <td>Odisha</td>\n",
       "      <td>2</td>\n",
       "      <td>12</td>\n",
       "      <td>1</td>\n",
       "    </tr>\n",
       "    <tr>\n",
       "      <th>4</th>\n",
       "      <td>5</td>\n",
       "      <td>5768871</td>\n",
       "      <td>47</td>\n",
       "      <td>11</td>\n",
       "      <td>single</td>\n",
       "      <td>rented</td>\n",
       "      <td>no</td>\n",
       "      <td>Civil_servant</td>\n",
       "      <td>Tiruchirappalli[10]</td>\n",
       "      <td>Tamil_Nadu</td>\n",
       "      <td>3</td>\n",
       "      <td>14</td>\n",
       "      <td>1</td>\n",
       "    </tr>\n",
       "  </tbody>\n",
       "</table>\n",
       "</div>"
      ],
      "text/plain": [
       "   Id   Income  Age  Experience Married/Single House_Ownership Car_Ownership  \\\n",
       "0   1  1303834   23           3         single          rented            no   \n",
       "1   2  7574516   40          10         single          rented            no   \n",
       "2   3  3991815   66           4        married          rented            no   \n",
       "3   4  6256451   41           2         single          rented           yes   \n",
       "4   5  5768871   47          11         single          rented            no   \n",
       "\n",
       "            Profession                 CITY           STATE  CURRENT_JOB_YRS  \\\n",
       "0  Mechanical_engineer                 Rewa  Madhya_Pradesh                3   \n",
       "1   Software_Developer             Parbhani     Maharashtra                9   \n",
       "2     Technical_writer            Alappuzha          Kerala                4   \n",
       "3   Software_Developer          Bhubaneswar          Odisha                2   \n",
       "4        Civil_servant  Tiruchirappalli[10]      Tamil_Nadu                3   \n",
       "\n",
       "   CURRENT_HOUSE_YRS  Risk_Flag  \n",
       "0                 13          0  \n",
       "1                 13          0  \n",
       "2                 10          0  \n",
       "3                 12          1  \n",
       "4                 14          1  "
      ]
     },
     "execution_count": 6,
     "metadata": {},
     "output_type": "execute_result"
    }
   ],
   "source": [
    "df.head()"
   ]
  },
  {
   "cell_type": "markdown",
   "metadata": {},
   "source": [
    "### 3.5 - Last five rows of Data"
   ]
  },
  {
   "cell_type": "code",
   "execution_count": 7,
   "metadata": {},
   "outputs": [
    {
     "data": {
      "text/html": [
       "<div>\n",
       "<style scoped>\n",
       "    .dataframe tbody tr th:only-of-type {\n",
       "        vertical-align: middle;\n",
       "    }\n",
       "\n",
       "    .dataframe tbody tr th {\n",
       "        vertical-align: top;\n",
       "    }\n",
       "\n",
       "    .dataframe thead th {\n",
       "        text-align: right;\n",
       "    }\n",
       "</style>\n",
       "<table border=\"1\" class=\"dataframe\">\n",
       "  <thead>\n",
       "    <tr style=\"text-align: right;\">\n",
       "      <th></th>\n",
       "      <th>Id</th>\n",
       "      <th>Income</th>\n",
       "      <th>Age</th>\n",
       "      <th>Experience</th>\n",
       "      <th>Married/Single</th>\n",
       "      <th>House_Ownership</th>\n",
       "      <th>Car_Ownership</th>\n",
       "      <th>Profession</th>\n",
       "      <th>CITY</th>\n",
       "      <th>STATE</th>\n",
       "      <th>CURRENT_JOB_YRS</th>\n",
       "      <th>CURRENT_HOUSE_YRS</th>\n",
       "      <th>Risk_Flag</th>\n",
       "    </tr>\n",
       "  </thead>\n",
       "  <tbody>\n",
       "    <tr>\n",
       "      <th>251995</th>\n",
       "      <td>251996</td>\n",
       "      <td>8154883</td>\n",
       "      <td>43</td>\n",
       "      <td>13</td>\n",
       "      <td>single</td>\n",
       "      <td>rented</td>\n",
       "      <td>no</td>\n",
       "      <td>Surgeon</td>\n",
       "      <td>Kolkata</td>\n",
       "      <td>West_Bengal</td>\n",
       "      <td>6</td>\n",
       "      <td>11</td>\n",
       "      <td>0</td>\n",
       "    </tr>\n",
       "    <tr>\n",
       "      <th>251996</th>\n",
       "      <td>251997</td>\n",
       "      <td>2843572</td>\n",
       "      <td>26</td>\n",
       "      <td>10</td>\n",
       "      <td>single</td>\n",
       "      <td>rented</td>\n",
       "      <td>no</td>\n",
       "      <td>Army_officer</td>\n",
       "      <td>Rewa</td>\n",
       "      <td>Madhya_Pradesh</td>\n",
       "      <td>6</td>\n",
       "      <td>11</td>\n",
       "      <td>0</td>\n",
       "    </tr>\n",
       "    <tr>\n",
       "      <th>251997</th>\n",
       "      <td>251998</td>\n",
       "      <td>4522448</td>\n",
       "      <td>46</td>\n",
       "      <td>7</td>\n",
       "      <td>single</td>\n",
       "      <td>rented</td>\n",
       "      <td>no</td>\n",
       "      <td>Design_Engineer</td>\n",
       "      <td>Kalyan-Dombivli</td>\n",
       "      <td>Maharashtra</td>\n",
       "      <td>7</td>\n",
       "      <td>12</td>\n",
       "      <td>0</td>\n",
       "    </tr>\n",
       "    <tr>\n",
       "      <th>251998</th>\n",
       "      <td>251999</td>\n",
       "      <td>6507128</td>\n",
       "      <td>45</td>\n",
       "      <td>0</td>\n",
       "      <td>single</td>\n",
       "      <td>rented</td>\n",
       "      <td>no</td>\n",
       "      <td>Graphic_Designer</td>\n",
       "      <td>Pondicherry</td>\n",
       "      <td>Puducherry</td>\n",
       "      <td>0</td>\n",
       "      <td>10</td>\n",
       "      <td>0</td>\n",
       "    </tr>\n",
       "    <tr>\n",
       "      <th>251999</th>\n",
       "      <td>252000</td>\n",
       "      <td>9070230</td>\n",
       "      <td>70</td>\n",
       "      <td>17</td>\n",
       "      <td>single</td>\n",
       "      <td>rented</td>\n",
       "      <td>no</td>\n",
       "      <td>Statistician</td>\n",
       "      <td>Avadi</td>\n",
       "      <td>Tamil_Nadu</td>\n",
       "      <td>7</td>\n",
       "      <td>11</td>\n",
       "      <td>0</td>\n",
       "    </tr>\n",
       "  </tbody>\n",
       "</table>\n",
       "</div>"
      ],
      "text/plain": [
       "            Id   Income  Age  Experience Married/Single House_Ownership  \\\n",
       "251995  251996  8154883   43          13         single          rented   \n",
       "251996  251997  2843572   26          10         single          rented   \n",
       "251997  251998  4522448   46           7         single          rented   \n",
       "251998  251999  6507128   45           0         single          rented   \n",
       "251999  252000  9070230   70          17         single          rented   \n",
       "\n",
       "       Car_Ownership        Profession             CITY           STATE  \\\n",
       "251995            no           Surgeon          Kolkata     West_Bengal   \n",
       "251996            no      Army_officer             Rewa  Madhya_Pradesh   \n",
       "251997            no   Design_Engineer  Kalyan-Dombivli     Maharashtra   \n",
       "251998            no  Graphic_Designer      Pondicherry      Puducherry   \n",
       "251999            no      Statistician            Avadi      Tamil_Nadu   \n",
       "\n",
       "        CURRENT_JOB_YRS  CURRENT_HOUSE_YRS  Risk_Flag  \n",
       "251995                6                 11          0  \n",
       "251996                6                 11          0  \n",
       "251997                7                 12          0  \n",
       "251998                0                 10          0  \n",
       "251999                7                 11          0  "
      ]
     },
     "execution_count": 7,
     "metadata": {},
     "output_type": "execute_result"
    }
   ],
   "source": [
    "df.tail()"
   ]
  },
  {
   "cell_type": "markdown",
   "metadata": {},
   "source": [
    "### 3.6 - Shape of Data"
   ]
  },
  {
   "cell_type": "code",
   "execution_count": 8,
   "metadata": {},
   "outputs": [
    {
     "data": {
      "text/plain": [
       "(252000, 13)"
      ]
     },
     "execution_count": 8,
     "metadata": {},
     "output_type": "execute_result"
    }
   ],
   "source": [
    "df.shape"
   ]
  },
  {
   "cell_type": "markdown",
   "metadata": {},
   "source": [
    "There are total 252000 rows and 13 columns."
   ]
  },
  {
   "cell_type": "markdown",
   "metadata": {},
   "source": [
    "### 3.7 - Unique values from data"
   ]
  },
  {
   "cell_type": "code",
   "execution_count": 9,
   "metadata": {},
   "outputs": [
    {
     "data": {
      "text/plain": [
       "Id                   252000\n",
       "Income                41920\n",
       "Age                      59\n",
       "Experience               21\n",
       "Married/Single            2\n",
       "House_Ownership           3\n",
       "Car_Ownership             2\n",
       "Profession               51\n",
       "CITY                    317\n",
       "STATE                    29\n",
       "CURRENT_JOB_YRS          15\n",
       "CURRENT_HOUSE_YRS         5\n",
       "Risk_Flag                 2\n",
       "dtype: int64"
      ]
     },
     "execution_count": 9,
     "metadata": {},
     "output_type": "execute_result"
    }
   ],
   "source": [
    "df.nunique()"
   ]
  },
  {
   "cell_type": "markdown",
   "metadata": {},
   "source": [
    "Here ,it show the total number of unique value from whole data frame"
   ]
  },
  {
   "cell_type": "code",
   "execution_count": 10,
   "metadata": {},
   "outputs": [
    {
     "data": {
      "text/plain": [
       "array(['Mechanical_engineer', 'Software_Developer', 'Technical_writer',\n",
       "       'Civil_servant', 'Librarian', 'Economist', 'Flight_attendant',\n",
       "       'Architect', 'Designer', 'Physician', 'Financial_Analyst',\n",
       "       'Air_traffic_controller', 'Politician', 'Police_officer', 'Artist',\n",
       "       'Surveyor', 'Design_Engineer', 'Chemical_engineer',\n",
       "       'Hotel_Manager', 'Dentist', 'Comedian', 'Biomedical_Engineer',\n",
       "       'Graphic_Designer', 'Computer_hardware_engineer',\n",
       "       'Petroleum_Engineer', 'Secretary', 'Computer_operator',\n",
       "       'Chartered_Accountant', 'Technician', 'Microbiologist',\n",
       "       'Fashion_Designer', 'Aviator', 'Psychologist', 'Magistrate',\n",
       "       'Lawyer', 'Firefighter', 'Engineer', 'Official', 'Analyst',\n",
       "       'Geologist', 'Drafter', 'Statistician', 'Web_designer',\n",
       "       'Consultant', 'Chef', 'Army_officer', 'Surgeon', 'Scientist',\n",
       "       'Civil_engineer', 'Industrial_Engineer', 'Technology_specialist'],\n",
       "      dtype=object)"
      ]
     },
     "execution_count": 10,
     "metadata": {},
     "output_type": "execute_result"
    }
   ],
   "source": [
    "df[\"Profession\"].unique()  "
   ]
  },
  {
   "cell_type": "code",
   "execution_count": 11,
   "metadata": {},
   "outputs": [
    {
     "data": {
      "text/plain": [
       "array(['Madhya_Pradesh', 'Maharashtra', 'Kerala', 'Odisha', 'Tamil_Nadu',\n",
       "       'Gujarat', 'Rajasthan', 'Telangana', 'Bihar', 'Andhra_Pradesh',\n",
       "       'West_Bengal', 'Haryana', 'Puducherry', 'Karnataka',\n",
       "       'Uttar_Pradesh', 'Himachal_Pradesh', 'Punjab', 'Tripura',\n",
       "       'Uttarakhand', 'Jharkhand', 'Mizoram', 'Assam',\n",
       "       'Jammu_and_Kashmir', 'Delhi', 'Chhattisgarh', 'Chandigarh',\n",
       "       'Uttar_Pradesh[5]', 'Manipur', 'Sikkim'], dtype=object)"
      ]
     },
     "execution_count": 11,
     "metadata": {},
     "output_type": "execute_result"
    }
   ],
   "source": [
    "df[\"STATE\"].unique()  "
   ]
  },
  {
   "cell_type": "markdown",
   "metadata": {},
   "source": [
    "Here,it is showing the unique value of 'Profession' and 'STATE' column"
   ]
  },
  {
   "cell_type": "markdown",
   "metadata": {},
   "source": [
    "### 3.8 - Datatypes of column"
   ]
  },
  {
   "cell_type": "code",
   "execution_count": 12,
   "metadata": {},
   "outputs": [
    {
     "data": {
      "text/plain": [
       "Id                    int64\n",
       "Income                int64\n",
       "Age                   int64\n",
       "Experience            int64\n",
       "Married/Single       object\n",
       "House_Ownership      object\n",
       "Car_Ownership        object\n",
       "Profession           object\n",
       "CITY                 object\n",
       "STATE                object\n",
       "CURRENT_JOB_YRS       int64\n",
       "CURRENT_HOUSE_YRS     int64\n",
       "Risk_Flag             int64\n",
       "dtype: object"
      ]
     },
     "execution_count": 12,
     "metadata": {},
     "output_type": "execute_result"
    }
   ],
   "source": [
    "df.dtypes"
   ]
  },
  {
   "cell_type": "markdown",
   "metadata": {},
   "source": [
    "## **4. Cleaning the Data**"
   ]
  },
  {
   "cell_type": "markdown",
   "metadata": {},
   "source": [
    "### 4.1 - Handling missing values"
   ]
  },
  {
   "cell_type": "code",
   "execution_count": 13,
   "metadata": {},
   "outputs": [
    {
     "data": {
      "text/plain": [
       "Id                   0\n",
       "Income               0\n",
       "Age                  0\n",
       "Experience           0\n",
       "Married/Single       0\n",
       "House_Ownership      0\n",
       "Car_Ownership        0\n",
       "Profession           0\n",
       "CITY                 0\n",
       "STATE                0\n",
       "CURRENT_JOB_YRS      0\n",
       "CURRENT_HOUSE_YRS    0\n",
       "Risk_Flag            0\n",
       "dtype: int64"
      ]
     },
     "execution_count": 13,
     "metadata": {},
     "output_type": "execute_result"
    }
   ],
   "source": [
    "df.isnull().sum()"
   ]
  },
  {
   "cell_type": "markdown",
   "metadata": {},
   "source": [
    "Here we can see there is no null/missing values in any column."
   ]
  },
  {
   "cell_type": "markdown",
   "metadata": {},
   "source": [
    "### 4.2 - Remove Duplicated values"
   ]
  },
  {
   "cell_type": "code",
   "execution_count": 14,
   "metadata": {},
   "outputs": [
    {
     "data": {
      "text/plain": [
       "0"
      ]
     },
     "execution_count": 14,
     "metadata": {},
     "output_type": "execute_result"
    }
   ],
   "source": [
    "df.duplicated().sum()"
   ]
  },
  {
   "cell_type": "markdown",
   "metadata": {},
   "source": [
    "We don't have any duplicate values "
   ]
  },
  {
   "cell_type": "markdown",
   "metadata": {},
   "source": [
    "### 4.3 - Removing Columns that we don't need\n",
    "ID is a column that we don't need , predict and keeping it might affect the accuracy of the model."
   ]
  },
  {
   "cell_type": "code",
   "execution_count": 15,
   "metadata": {},
   "outputs": [],
   "source": [
    "df=df.drop('Id',axis=1)"
   ]
  },
  {
   "cell_type": "code",
   "execution_count": 16,
   "metadata": {},
   "outputs": [
    {
     "data": {
      "text/html": [
       "<div>\n",
       "<style scoped>\n",
       "    .dataframe tbody tr th:only-of-type {\n",
       "        vertical-align: middle;\n",
       "    }\n",
       "\n",
       "    .dataframe tbody tr th {\n",
       "        vertical-align: top;\n",
       "    }\n",
       "\n",
       "    .dataframe thead th {\n",
       "        text-align: right;\n",
       "    }\n",
       "</style>\n",
       "<table border=\"1\" class=\"dataframe\">\n",
       "  <thead>\n",
       "    <tr style=\"text-align: right;\">\n",
       "      <th></th>\n",
       "      <th>Income</th>\n",
       "      <th>Age</th>\n",
       "      <th>Experience</th>\n",
       "      <th>Married/Single</th>\n",
       "      <th>House_Ownership</th>\n",
       "      <th>Car_Ownership</th>\n",
       "      <th>Profession</th>\n",
       "      <th>CITY</th>\n",
       "      <th>STATE</th>\n",
       "      <th>CURRENT_JOB_YRS</th>\n",
       "      <th>CURRENT_HOUSE_YRS</th>\n",
       "      <th>Risk_Flag</th>\n",
       "    </tr>\n",
       "  </thead>\n",
       "  <tbody>\n",
       "    <tr>\n",
       "      <th>0</th>\n",
       "      <td>1303834</td>\n",
       "      <td>23</td>\n",
       "      <td>3</td>\n",
       "      <td>single</td>\n",
       "      <td>rented</td>\n",
       "      <td>no</td>\n",
       "      <td>Mechanical_engineer</td>\n",
       "      <td>Rewa</td>\n",
       "      <td>Madhya_Pradesh</td>\n",
       "      <td>3</td>\n",
       "      <td>13</td>\n",
       "      <td>0</td>\n",
       "    </tr>\n",
       "    <tr>\n",
       "      <th>1</th>\n",
       "      <td>7574516</td>\n",
       "      <td>40</td>\n",
       "      <td>10</td>\n",
       "      <td>single</td>\n",
       "      <td>rented</td>\n",
       "      <td>no</td>\n",
       "      <td>Software_Developer</td>\n",
       "      <td>Parbhani</td>\n",
       "      <td>Maharashtra</td>\n",
       "      <td>9</td>\n",
       "      <td>13</td>\n",
       "      <td>0</td>\n",
       "    </tr>\n",
       "    <tr>\n",
       "      <th>2</th>\n",
       "      <td>3991815</td>\n",
       "      <td>66</td>\n",
       "      <td>4</td>\n",
       "      <td>married</td>\n",
       "      <td>rented</td>\n",
       "      <td>no</td>\n",
       "      <td>Technical_writer</td>\n",
       "      <td>Alappuzha</td>\n",
       "      <td>Kerala</td>\n",
       "      <td>4</td>\n",
       "      <td>10</td>\n",
       "      <td>0</td>\n",
       "    </tr>\n",
       "    <tr>\n",
       "      <th>3</th>\n",
       "      <td>6256451</td>\n",
       "      <td>41</td>\n",
       "      <td>2</td>\n",
       "      <td>single</td>\n",
       "      <td>rented</td>\n",
       "      <td>yes</td>\n",
       "      <td>Software_Developer</td>\n",
       "      <td>Bhubaneswar</td>\n",
       "      <td>Odisha</td>\n",
       "      <td>2</td>\n",
       "      <td>12</td>\n",
       "      <td>1</td>\n",
       "    </tr>\n",
       "    <tr>\n",
       "      <th>4</th>\n",
       "      <td>5768871</td>\n",
       "      <td>47</td>\n",
       "      <td>11</td>\n",
       "      <td>single</td>\n",
       "      <td>rented</td>\n",
       "      <td>no</td>\n",
       "      <td>Civil_servant</td>\n",
       "      <td>Tiruchirappalli[10]</td>\n",
       "      <td>Tamil_Nadu</td>\n",
       "      <td>3</td>\n",
       "      <td>14</td>\n",
       "      <td>1</td>\n",
       "    </tr>\n",
       "  </tbody>\n",
       "</table>\n",
       "</div>"
      ],
      "text/plain": [
       "    Income  Age  Experience Married/Single House_Ownership Car_Ownership  \\\n",
       "0  1303834   23           3         single          rented            no   \n",
       "1  7574516   40          10         single          rented            no   \n",
       "2  3991815   66           4        married          rented            no   \n",
       "3  6256451   41           2         single          rented           yes   \n",
       "4  5768871   47          11         single          rented            no   \n",
       "\n",
       "            Profession                 CITY           STATE  CURRENT_JOB_YRS  \\\n",
       "0  Mechanical_engineer                 Rewa  Madhya_Pradesh                3   \n",
       "1   Software_Developer             Parbhani     Maharashtra                9   \n",
       "2     Technical_writer            Alappuzha          Kerala                4   \n",
       "3   Software_Developer          Bhubaneswar          Odisha                2   \n",
       "4        Civil_servant  Tiruchirappalli[10]      Tamil_Nadu                3   \n",
       "\n",
       "   CURRENT_HOUSE_YRS  Risk_Flag  \n",
       "0                 13          0  \n",
       "1                 13          0  \n",
       "2                 10          0  \n",
       "3                 12          1  \n",
       "4                 14          1  "
      ]
     },
     "execution_count": 16,
     "metadata": {},
     "output_type": "execute_result"
    }
   ],
   "source": [
    "df.head()"
   ]
  },
  {
   "cell_type": "markdown",
   "metadata": {},
   "source": [
    "## **5 - Categorizing**"
   ]
  },
  {
   "cell_type": "markdown",
   "metadata": {},
   "source": [
    "### 5.1 - Categorizing profession"
   ]
  },
  {
   "cell_type": "code",
   "execution_count": 17,
   "metadata": {},
   "outputs": [],
   "source": [
    "def categorizing_prof(profession):\n",
    "    if profession in ['Mechanical_engineer', 'Design_Engineer', 'Chemical_engineer', 'Biomedical_Engineer',\n",
    "                      'Computer_hardware_engineer', 'Petroleum_Engineer', 'Civil_engineer',\n",
    "                      'Industrial_Engineer', 'Technology_specialist']:\n",
    "        return 'Engineering'\n",
    "    elif profession in ['Software_Developer', 'Technical_writer','Computer_operator']:\n",
    "        return 'Software'\n",
    "    elif profession in ['Technician', 'Microbiologist', 'Scientist', 'Geologist', 'Statistician']:\n",
    "        return 'Research'\n",
    "    elif profession in ['Civil_servant', 'Politician', 'Police_officer', 'Magistrate', 'Official', 'Army_officer']:\n",
    "        return 'Government'\n",
    "    elif profession in ['Economist', 'Financial_Analyst','Chartered_Accountant', 'Analyst']:\n",
    "        return 'Finance'\n",
    "    elif profession in ['Flight_attendant', 'Air_traffic_controller', 'Aviator']:\n",
    "        return 'Aviation'\n",
    "    elif profession in ['Architect', 'Designer', 'Graphic_Designer', 'Web_designer', 'Fashion_Designer']:\n",
    "        return 'Design'\n",
    "    elif profession in ['Physician', 'Dentist', 'Surgeon','Psychologist']:\n",
    "        return 'Doctor'\n",
    "    elif profession in ['Hotel_Manager']:\n",
    "        return 'Hospitality'\n",
    "    elif profession in ['Chef']:\n",
    "        return 'Cooking'\n",
    "    elif profession == 'Artist':\n",
    "        return 'Art'\n",
    "    elif profession in ['Comedian' ]:\n",
    "        return 'Comedian'\n",
    "    elif profession in ['Secretary']:\n",
    "        return 'Secretary'\n",
    "    elif profession in ['Librarian']:\n",
    "        return 'Librarian'\n",
    "    else:\n",
    "        return 'Other'   \n"
   ]
  },
  {
   "cell_type": "markdown",
   "metadata": {},
   "source": [
    "We are categoring professions into broader occupational categories because it'll help to give:\n",
    "- **Simplified Analysis:** Reduces complexity in analysis by focusing on trends across broader occupational groups rather than individual professions.\n",
    "- **Feature Engineering:** Utilizes these categories as features in machine learning models to improve predictions based on borrower occupations.\n",
    "- **Improved Model Performance:** Enhances model performance by capturing correlations between occupational categories and loan repayment behavior.\n"
   ]
  },
  {
   "cell_type": "code",
   "execution_count": 18,
   "metadata": {},
   "outputs": [],
   "source": [
    "df['Profession'] = df['Profession'].apply(categorizing_prof)"
   ]
  },
  {
   "cell_type": "code",
   "execution_count": 19,
   "metadata": {},
   "outputs": [
    {
     "data": {
      "text/plain": [
       "Profession\n",
       "Engineering    45294\n",
       "Government     28497\n",
       "Other          28254\n",
       "Design         25122\n",
       "Research       25004\n",
       "Doctor         20901\n",
       "Finance        18901\n",
       "Software       15238\n",
       "Aviation       15167\n",
       "Comedian        5259\n",
       "Hospitality     5178\n",
       "Secretary       5061\n",
       "Art             4861\n",
       "Cooking         4635\n",
       "Librarian       4628\n",
       "Name: count, dtype: int64"
      ]
     },
     "execution_count": 19,
     "metadata": {},
     "output_type": "execute_result"
    }
   ],
   "source": [
    "df['Profession'].value_counts()"
   ]
  },
  {
   "cell_type": "code",
   "execution_count": 20,
   "metadata": {},
   "outputs": [
    {
     "data": {
      "text/plain": [
       "array(['Madhya_Pradesh', 'Maharashtra', 'Kerala', 'Odisha', 'Tamil_Nadu',\n",
       "       'Gujarat', 'Rajasthan', 'Telangana', 'Bihar', 'Andhra_Pradesh',\n",
       "       'West_Bengal', 'Haryana', 'Puducherry', 'Karnataka',\n",
       "       'Uttar_Pradesh', 'Himachal_Pradesh', 'Punjab', 'Tripura',\n",
       "       'Uttarakhand', 'Jharkhand', 'Mizoram', 'Assam',\n",
       "       'Jammu_and_Kashmir', 'Delhi', 'Chhattisgarh', 'Chandigarh',\n",
       "       'Uttar_Pradesh[5]', 'Manipur', 'Sikkim'], dtype=object)"
      ]
     },
     "execution_count": 20,
     "metadata": {},
     "output_type": "execute_result"
    }
   ],
   "source": [
    "df['STATE'].unique()"
   ]
  },
  {
   "cell_type": "markdown",
   "metadata": {},
   "source": [
    "### 5.2 - Categorizing States"
   ]
  },
  {
   "cell_type": "code",
   "execution_count": 21,
   "metadata": {},
   "outputs": [],
   "source": [
    "def categorizing_state(state):\n",
    "    if state in ['Kerala','Tamil_Nadu','Telangana','Andhra Pradesh','Puducherry','Karnataka']:\n",
    "        return 'South Zone'\n",
    "    elif state in ['Madhya_Pradesh', 'Maharashtra', 'Gujarat','Rajasthan']:\n",
    "        return 'West Zone'\n",
    "    elif state in ['Haryana','Uttar_Pradesh','Himachal_Pradesh','Punjab','Uttarakhand','Jammu & Kashmir','Delhi','Chandigarh','Uttar_Pradesh[5]']:\n",
    "        return 'North Zone'\n",
    "    elif state in ['Odisha','Bihar','West_Bengal','Tripura','Jharkhand','Mizoram','Assam','Manipur','Sikkim']:\n",
    "        return 'East Zone'\n",
    "    else:\n",
    "        return 'Unknown'"
   ]
  },
  {
   "cell_type": "code",
   "execution_count": 22,
   "metadata": {},
   "outputs": [
    {
     "data": {
      "text/plain": [
       "array(['Madhya_Pradesh', 'Maharashtra', 'Kerala', 'Odisha', 'Tamil_Nadu',\n",
       "       'Gujarat', 'Rajasthan', 'Telangana', 'Bihar', 'Andhra_Pradesh',\n",
       "       'West_Bengal', 'Haryana', 'Puducherry', 'Karnataka',\n",
       "       'Uttar_Pradesh', 'Himachal_Pradesh', 'Punjab', 'Tripura',\n",
       "       'Uttarakhand', 'Jharkhand', 'Mizoram', 'Assam',\n",
       "       'Jammu_and_Kashmir', 'Delhi', 'Chhattisgarh', 'Chandigarh',\n",
       "       'Uttar_Pradesh[5]', 'Manipur', 'Sikkim'], dtype=object)"
      ]
     },
     "execution_count": 22,
     "metadata": {},
     "output_type": "execute_result"
    }
   ],
   "source": [
    "df['STATE'].unique()"
   ]
  },
  {
   "cell_type": "code",
   "execution_count": 23,
   "metadata": {},
   "outputs": [],
   "source": [
    "df['zone'] = df['STATE'].apply(categorizing_state)"
   ]
  },
  {
   "cell_type": "code",
   "execution_count": 24,
   "metadata": {},
   "outputs": [
    {
     "data": {
      "text/plain": [
       "zone\n",
       "East Zone     67063\n",
       "West Zone     60266\n",
       "North Zone    50606\n",
       "South Zone    43154\n",
       "Unknown       30911\n",
       "Name: count, dtype: int64"
      ]
     },
     "execution_count": 24,
     "metadata": {},
     "output_type": "execute_result"
    }
   ],
   "source": [
    "df['zone'].value_counts()"
   ]
  },
  {
   "cell_type": "markdown",
   "metadata": {},
   "source": [
    "## **6. Visualizing the Data**\n"
   ]
  },
  {
   "cell_type": "markdown",
   "metadata": {},
   "source": [
    "### 6.1 -  Distribution of Professions"
   ]
  },
  {
   "cell_type": "code",
   "execution_count": 25,
   "metadata": {},
   "outputs": [
    {
     "data": {
      "text/plain": [
       "<Axes: title={'center': 'Distribution of Professions'}, xlabel='Profession'>"
      ]
     },
     "execution_count": 25,
     "metadata": {},
     "output_type": "execute_result"
    },
    {
     "data": {
      "image/png": "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",
      "text/plain": [
       "<Figure size 1000x600 with 1 Axes>"
      ]
     },
     "metadata": {},
     "output_type": "display_data"
    }
   ],
   "source": [
    "plt.figure(figsize=(10,6))\n",
    "plt.title('Distribution of Professions')\n",
    "df['Profession'].value_counts().plot(kind='bar')"
   ]
  },
  {
   "cell_type": "markdown",
   "metadata": {},
   "source": [
    "Here, This observation suggests a higher representation of individuals with engineering-related occupations in the dataset."
   ]
  },
  {
   "cell_type": "markdown",
   "metadata": {},
   "source": [
    "### 6.2 - Distribution of Geographical Zones "
   ]
  },
  {
   "cell_type": "code",
   "execution_count": 26,
   "metadata": {},
   "outputs": [
    {
     "data": {
      "text/plain": [
       "Text(0, 0.5, 'Frequency')"
      ]
     },
     "execution_count": 26,
     "metadata": {},
     "output_type": "execute_result"
    },
    {
     "data": {
      "image/png": "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",
      "text/plain": [
       "<Figure size 1000x600 with 1 Axes>"
      ]
     },
     "metadata": {},
     "output_type": "display_data"
    }
   ],
   "source": [
    "plt.figure(figsize=(10,6))\n",
    "df['zone'].value_counts().plot(kind='bar')\n",
    "plt.ylabel('Frequency')"
   ]
  },
  {
   "cell_type": "markdown",
   "metadata": {},
   "source": [
    "This bar plot offers an overview of the dataset's geographical zone distribution, emphasizing the count of states attributed to different geographical regions"
   ]
  },
  {
   "cell_type": "markdown",
   "metadata": {},
   "source": [
    "### 6.3 - Distribution of Numerical Features"
   ]
  },
  {
   "cell_type": "code",
   "execution_count": 27,
   "metadata": {},
   "outputs": [
    {
     "data": {
      "image/png": "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",
      "text/plain": [
       "<Figure size 1200x800 with 6 Axes>"
      ]
     },
     "metadata": {},
     "output_type": "display_data"
    }
   ],
   "source": [
    "numerical_columns = ['Income', 'Age', 'Experience', 'CURRENT_JOB_YRS', 'CURRENT_HOUSE_YRS']\n",
    "df[numerical_columns].hist(bins=20, figsize=(12, 8))\n",
    "plt.tight_layout()\n",
    "plt.show()"
   ]
  },
  {
   "cell_type": "markdown",
   "metadata": {},
   "source": [
    "**Observation**\n",
    "- Income: The histogram for 'Income' showcases the distribution of income levels across intervals and providing insights into income distribution patterns.\n",
    "- 'Age' and 'Experience': The histograms for 'Age' and 'Experience' exhibit the distribution of ages and years of experience respectively, highlighting the spread and concentration of these values.\n",
    "- 'CURRENT_JOB_YRS' and 'CURRENT_HOUSE_YRS': These histograms illustrate the distribution of the number of years in the current job and current house, aiding in understanding the patterns within the dataset."
   ]
  },
  {
   "cell_type": "markdown",
   "metadata": {},
   "source": [
    "### 6.4 - Count Plot for Categorical Variables"
   ]
  },
  {
   "cell_type": "code",
   "execution_count": 28,
   "metadata": {},
   "outputs": [
    {
     "data": {
      "image/png": "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",
      "text/plain": [
       "<Figure size 800x600 with 1 Axes>"
      ]
     },
     "metadata": {},
     "output_type": "display_data"
    },
    {
     "data": {
      "image/png": "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",
      "text/plain": [
       "<Figure size 800x600 with 1 Axes>"
      ]
     },
     "metadata": {},
     "output_type": "display_data"
    },
    {
     "data": {
      "image/png": "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",
      "text/plain": [
       "<Figure size 800x600 with 1 Axes>"
      ]
     },
     "metadata": {},
     "output_type": "display_data"
    },
    {
     "data": {
      "image/png": "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",
      "text/plain": [
       "<Figure size 800x600 with 1 Axes>"
      ]
     },
     "metadata": {},
     "output_type": "display_data"
    },
    {
     "data": {
      "image/png": "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",
      "text/plain": [
       "<Figure size 800x600 with 1 Axes>"
      ]
     },
     "metadata": {},
     "output_type": "display_data"
    },
    {
     "data": {
      "image/png": "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",
      "text/plain": [
       "<Figure size 800x600 with 1 Axes>"
      ]
     },
     "metadata": {},
     "output_type": "display_data"
    }
   ],
   "source": [
    "categorical_columns = ['Married/Single', 'House_Ownership', 'Car_Ownership','Risk_Flag','Profession','STATE']\n",
    "for col in categorical_columns:\n",
    "    plt.figure(figsize=(8, 6))\n",
    "    sns.countplot(x=col, data=df)\n",
    "    plt.xticks(rotation=90)\n",
    "    plt.tight_layout()\n",
    "    plt.show()"
   ]
  },
  {
   "cell_type": "markdown",
   "metadata": {},
   "source": [
    "### 6.5 - Target Variable Analysis"
   ]
  },
  {
   "cell_type": "code",
   "execution_count": 29,
   "metadata": {},
   "outputs": [
    {
     "data": {
      "image/png": "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",
      "text/plain": [
       "<Figure size 1000x600 with 1 Axes>"
      ]
     },
     "metadata": {},
     "output_type": "display_data"
    }
   ],
   "source": [
    "plt.figure(figsize=(10, 6))\n",
    "sns.countplot(x='Risk_Flag', data=df)\n",
    "plt.tight_layout()\n",
    "plt.show()"
   ]
  },
  {
   "cell_type": "markdown",
   "metadata": {},
   "source": [
    "This plot is showing the number of occurrences for each class within the 'Risk_Flag' variable. For instance, in a binary classification scenario (0 or 1), it will display the count of 0s and 1s."
   ]
  },
  {
   "cell_type": "markdown",
   "metadata": {},
   "source": [
    "### 6.6 - : Income Distribution Comparison by House Ownership"
   ]
  },
  {
   "cell_type": "code",
   "execution_count": 30,
   "metadata": {},
   "outputs": [
    {
     "data": {
      "image/png": "iVBORw0KGgoAAAANSUhEUgAAAjMAAAHNCAYAAADrIvo2AAAAOXRFWHRTb2Z0d2FyZQBNYXRwbG90bGliIHZlcnNpb24zLjcuMiwgaHR0cHM6Ly9tYXRwbG90bGliLm9yZy8pXeV/AAAACXBIWXMAAA9hAAAPYQGoP6dpAABfjUlEQVR4nO3deXwM9+M/8Ndujl2JRISchDgacYREVIRcCKEaTZU4WokUPUgdQSvaivSgFKWtOtovadEKWtqPK3GF0PioI6kjiCOoI6GOSELO9+8Pv52PtZvIRhKG1/Px8Gj3Pe+Zec/se3dfmXnPjEIIIUBEREQkU8on3QAiIiKix8EwQ0RERLLGMENERESyxjBDREREssYwQ0RERLLGMENERESyxjBDREREssYwQ0RERLLGMENERESyxjBDzySFQoFp06Y96WY885KSkqBQKJCUlFRuvWnTpkGhUOD69es10zB65sXFxUGhUODAgQOPrBsQEICAgIDqbxQ9MQwzZBDNF8iD/2xtbdG1a1ds3rz5STfvsR0/fhzTpk1DZmbmk24KVUJAQADatGmjd1pmZiYUCgVmz55dw62qfhcuXMA777wDZ2dnqFQq2NraIiQkBHv37n3STSOqEcZPugEkT5988gmaNGkCIQSysrIQFxeHl156Cf/5z3/w8ssvP+nmVdrx48cRGxuLgIAAODs7P+nmED3S3r178dJLLwEARowYgVatWuHq1auIi4uDr68v5s+fj/fee+8Jt/LJSkxMfNJNoGrGMEOV0rt3b3To0EF6PXz4cNjZ2eGXX36RdZipScXFxSgtLYWpqemTbgrJ1M2bN9G/f3/UqlULe/fuRbNmzaRpUVFRCAoKwrhx4+Dp6YnOnTs/wZZWTGlpKQoLC6FWq6t0ufyMPft4momqhJWVFWrVqgVjY+18nJeXhwkTJsDJyQkqlQotWrTA7NmzoXlY+927d+Hq6gpXV1fcvXtXmu/GjRtwcHBA586dUVJSAgAYNmwYateujbNnzyIoKAjm5uZwdHTEJ598goo8/P3w4cPo3bs3LC0tUbt2bXTv3h379u2TpsfFxWHAgAEAgK5du0qn0R41HmTNmjVo1aoV1Go12rRpg3Xr1mHYsGFaR3YePMUxb948NGvWDCqVCsePHwcA7NixA76+vjA3N4eVlRVeeeUVpKena63n4WVqaMajPEihUCAyMhIrV65EixYtoFar4enpid27d+vMf+nSJbz55puws7ODSqVC69atsXTpUp16//zzD0JCQmBubg5bW1uMHz8eBQUF5e6bh12/fh2hoaGwtLREvXr1MHbsWNy7d0+a7u/vj3bt2umdt0WLFggKCjJofRVx9uxZDBgwANbW1jAzM0OnTp2wceNGrTqa06sPn37UN2YoIyMDr732Guzt7aFWq9GwYUMMGjQIt2/f1pp3xYoV8PT0RK1atWBtbY1Bgwbh4sWLBrV98eLFuHr1Kr788kutIAMAtWrVwo8//giFQoFPPvkEAHDr1i0YGRnh66+/lupdv34dSqUS9erV0/ocvfvuu7C3t5dea07hHT9+HF27doWZmRkaNGiAWbNm6bSroKAAMTExaN68OVQqFZycnPD+++/r9JcH+2nr1q2hUqmwZcsWAMCqVavg6ekJCwsLWFpaws3NDfPnz9e7rqioKNjY2MDc3Byvvvoqrl27plXn4TEzmvctPj4eU6ZMgb29PczNzdG3b1+D3wN6OvDIDFXK7du3cf36dQghkJ2djW+++Qa5ubl44403pDpCCPTt2xc7d+7E8OHD4e7ujoSEBEyaNAmXLl3CV199JX3hdunSBR9++CHmzp0LABg9ejRu376NuLg4GBkZScssKSlBr1690KlTJ8yaNQtbtmxBTEwMiouLpS9sfY4dOwZfX19YWlri/fffh4mJCRYvXoyAgADs2rULXl5e8PPzw5gxY/D1119jypQpaNmyJQBI/9Vn48aNGDhwINzc3DBjxgzcvHkTw4cPR4MGDfTWX7ZsGe7du4e33noLKpUK1tbW2LZtG3r37o2mTZti2rRpuHv3Lr755ht06dIFhw4dqvTprl27diE+Ph5jxoyBSqXCd999h169emH//v3SuJKsrCx06tRJ+lGxsbHB5s2bMXz4cOTk5GDcuHEA7ofO7t2748KFCxgzZgwcHR2xfPly7Nixw6A2hYaGwtnZGTNmzMC+ffvw9ddf4+bNm/jpp58AAEOHDsXIkSNx9OhRrbEvf/31F06dOoWPPvrokesoKSnRO9D45s2bOmVZWVno3Lkz8vPzMWbMGNSrVw8//vgj+vbti7Vr1+LVV181aPsKCwsRFBSEgoICvPfee7C3t8elS5ewYcMG3Lp1C3Xq1AEAfP755/j4448RGhqKESNG4Nq1a/jmm2/g5+eHw4cPw8rKqkLr+89//gO1Wo3Q0FC905s0aQIfHx/s2LEDd+/ehZWVFdq0aYPdu3djzJgxAIA9e/ZAoVDgxo0bOH78OFq3bg0ASE5Ohq+vr9bybt68iV69eqFfv34IDQ3F2rVr8cEHH8DNzQ29e/cGcP/oSt++fbFnzx689dZbaNmyJY4cOYKvvvoKp06dwvr167WWuWPHDqxevRqRkZGoX78+nJ2dsXXrVgwePBjdu3fHzJkzAQDp6enYu3cvxo4dqzX/e++9h7p16yImJgaZmZmYN28eIiMjER8f/8j99/nnn0OhUOCDDz5AdnY25s2bh8DAQKSmpqJWrVqPfgPo6SGIDLBs2TIBQOefSqUScXFxWnXXr18vAIjPPvtMq7x///5CoVCI06dPS2XR0dFCqVSK3bt3izVr1ggAYt68eVrzhYeHCwDivffek8pKS0tFnz59hKmpqbh27ZpUDkDExMRIr0NCQoSpqak4c+aMVHb58mVhYWEh/Pz8pDLNunfu3Fmh/eHm5iYaNmwo7ty5I5UlJSUJAKJx48ZS2blz5wQAYWlpKbKzs7WW4e7uLmxtbcW///4rlaWlpQmlUinCwsK0tv/BZWrExMSIhz/KmvflwIEDUtn58+eFWq0Wr776qlQ2fPhw4eDgIK5fv641/6BBg0SdOnVEfn6+EEKIefPmCQBi9erVUp28vDzRvHnzCu0vTRv79u2rVT5q1CgBQKSlpQkhhLh165ZQq9Xigw8+0Ko3ZswYYW5uLnJzc8tdj7+/v97++eC/L7/8Uqo/btw4AUAkJydLZXfu3BFNmjQRzs7OoqSkRAjxv35/7tw5rfXt3LlTa/sPHz4sAIg1a9aU2cbMzExhZGQkPv/8c63yI0eOCGNjY53y8lhZWYl27dqVW2fMmDECgPj777+FEEKMHj1a2NnZSdOjoqKEn5+fsLW1FQsXLhRCCPHvv/8KhUIh5s+fL9XT7NuffvpJKisoKBD29vbitddek8qWL18ulEql1j4VQohFixYJAGLv3r1SGQChVCrFsWPHtOqOHTtWWFpaiuLi4jK3S/OeBAYGitLSUql8/PjxwsjISNy6dUur7f7+/tJrzfvWoEEDkZOTI5WvXr1aANDabpIHnmaiSlmwYAG2bt2KrVu3YsWKFejatStGjBiB3377TaqzadMmGBkZSX8BakyYMAFCCK2rn6ZNm4bWrVsjPDwco0aNgr+/v858GpGRkdL/a44oFBYWYtu2bXrrl5SUIDExESEhIWjatKlU7uDggCFDhmDPnj3IyckxeB9cvnwZR44cQVhYGGrXri2V+/v7w83NTe88r732GmxsbKTXV65cQWpqKoYNGwZra2upvG3btujRowc2bdpkcLs0vL294enpKb1u1KgRXnnlFSQkJKCkpARCCPz6668IDg6GEALXr1+X/gUFBeH27ds4dOgQgPvvpYODA/r37y8tz8zMDG+99ZZBbRo9erTWa83AVM121qlTB6+88gp++eUX6ZRHSUkJ4uPjpVNcj6L5y/7hfytWrNCpu2nTJnTs2BE+Pj5SWe3atfHWW28hMzNTOg1YUZojLwkJCcjPz9db57fffkNpaSlCQ0O19rm9vT1eeOEF7Ny5s8Lru3PnDiwsLMqto5mu6eO+vr7IysrCyZMnAdw/AuPn5wdfX18kJycDuH+0Rgihc2Smdu3aWkdfTU1N0bFjR5w9e1YqW7NmDVq2bAlXV1et7evWrRsA6Gyfv78/WrVqpVVmZWWFvLw8bN269ZH74K233tI6zerr64uSkhKcP3/+kfOGhYVp7b/+/fvDwcHhsT539GTwNBNVSseOHbUGAA8ePBgeHh6IjIzEyy+/DFNTU5w/fx6Ojo46X7aa0zYPftmYmppi6dKlePHFF6FWq7Fs2TKdcSAAoFQqtQIJALi4uABAmZdTX7t2Dfn5+WjRooXOtJYtW6K0tBQXL16UDq9XlKb9zZs315nWvHlzKQg8qEmTJnqXUVbbEhISkJeXV6Ef8Ye98MILOmUuLi7Iz8/HtWvXoFQqcevWLSxZsgRLlizRu4zs7Gypnc2bN9d5T/S125A2NWvWDEqlUuu9CwsLQ3x8vPQju23bNmRlZWHo0KEVWoe5uTkCAwN1yvX1j/Pnz8PLy0un/ME+Wtal3vo0adIEUVFRmDt3LlauXAlfX1/07dsXb7zxhhR0MjIyIITQ+/4AgImJSYXXZ2FhgTt37pRbRzNd8znUBJTk5GQ0bNgQhw8fxmeffQYbGxvpsvXk5GRYWlrqjF9q2LChTh+oW7cu/v77b+l1RkYG0tPTtUL7gzR9SuPhzwQAjBo1CqtXr0bv3r3RoEED9OzZE6GhoejVq5dO3UaNGum0B9B/WvFhD78HCoUCzZs3560ZZIhhhqqEUqlE165dMX/+fGRkZBgcDID7f80CwL1795CRkaH3S07uHuc8vL5wB0AaIG2o0tJSAMAbb7yB8PBwvXXatm1bqWVXlL5tCgoKgp2dHVasWAE/Pz+sWLEC9vb2egNKTTFk38+ZMwfDhg3D77//jsTERIwZM0YaI9SwYUOUlpZCoVBg8+bNWuPBNB48yvcoLVu2xOHDh1FQUACVSqW3zt9//w0TExPph9vR0RFNmjTB7t274ezsDCEEvL29YWNjg7Fjx+L8+fNITk5G586doVRqH7zX114AWgOHS0tL4ebmJo1/e5iTk5PWa32fCVtbW6SmpiIhIQGbN2/G5s2bsWzZMoSFheHHH380uE307GOYoSpTXFwMAMjNzQUANG7cGNu2bdM5FH7ixAlpusbff/+NTz75BBEREUhNTcWIESNw5MgR6a9ZjdLSUpw9e1Y6GgMAp06dAoAyB8ra2NjAzMxMOqz+oBMnTkCpVEpfsGX9aOmjaf/p06d1pukrK28ZZbWtfv360lGZunXr4tatWzr1yjqcnpGRoVN26tQpmJmZSX81W1hYoKSk5JFBoXHjxjh69CiEEFr7SF+7y/NwSD19+jRKS0u13jsjIyMMGTIEcXFxmDlzJtavX4+RI0eW+aP1OBo3blzmvtdMB/731/7D+7+sfe/m5gY3Nzd89NFH+PPPP9GlSxcsWrQIn332GZo1awYhBJo0aaLVjyvj5ZdfRkpKCtasWaN1+kcjMzMTycnJCAwM1AoNvr6+2L17N5o0aQJ3d3dYWFigXbt2qFOnDrZs2YJDhw4hNja2Um1q1qwZ0tLS0L17d4M+Tw8zNTVFcHAwgoODUVpailGjRmHx4sX4+OOP9R4NrYyHPyNCCJw+fbraQzxVPY6ZoSpRVFSExMREmJqaSofoX3rpJZSUlODbb7/VqvvVV19BoVBIVz8UFRVh2LBhcHR0xPz58xEXF4esrCyMHz9e77oeXJ4QAt9++y1MTEzQvXt3vfWNjIzQs2dP/P7771qHj7OysvDzzz/Dx8cHlpaWACAFB32h4WGOjo5o06YNfvrpJynAAfevIjpy5Mgj5wfuj9txd3fHjz/+qLXOo0ePIjExUboZGnD/R+L27dtah/SvXLmCdevW6V12SkqK1qmuixcv4vfff0fPnj1hZGQEIyMjvPbaa/j1119x9OhRnfkfvLz1pZdewuXLl7F27VqpLD8/v8zTU2VZsGCB1utvvvkGAKS+oDF06FDcvHkTb7/9ts5VclXppZdewv79+5GSkiKV5eXlYcmSJXB2dpbGcmgue37w0vaSkhKd7c/JyZFCvYabmxuUSqV0WXK/fv1gZGSE2NhYnaMHQgj8+++/FW7/22+/DVtbW0yaNElr3Apw/whnREQEhBCYOnWq1jRfX19kZmYiPj5eOu2kVCrRuXNnzJ07F0VFRTrjZSoqNDQUly5dwvfff68z7e7du8jLy3vkMh7eB0qlUgoYht4OoDw//fST1mm6tWvX4sqVKzr9kZ5+PDJDlbJ582bpr9fs7Gz8/PPPyMjIwOTJk6VgEBwcjK5du+LDDz9EZmYm2rVrh8TERPz+++8YN26c9APx2WefITU1Fdu3b4eFhQXatm2LqVOn4qOPPkL//v21ftDVajW2bNmC8PBweHl5YfPmzdi4cSOmTJlS5jl6zTq2bt0KHx8fjBo1CsbGxli8eDEKCgq07pPh7u4OIyMjzJw5E7dv34ZKpUK3bt1ga2urd7nTp0/HK6+8gi5duiAiIgI3b97Et99+izZt2mgFnPJ8+eWX6N27N7y9vTF8+HDp0uw6depoPV9q0KBB+OCDD/Dqq69izJgxyM/Px8KFC+Hi4qJ3fE6bNm0QFBSkdWk2AK2/uL/44gvs3LkTXl5eGDlyJFq1aoUbN27g0KFD2LZtG27cuAEAGDlyJL799luEhYXh4MGDcHBwwPLly2FmZlahbdQ4d+4c+vbti169eiElJQUrVqzAkCFDdMZmeHh4oE2bNtJg0vbt2xu0noqaPHkyfvnlF/Tu3RtjxoyBtbU1fvzxR5w7dw6//vqrdJqldevW6NSpE6Kjo3Hjxg1YW1tj1apVOsFlx44diIyMxIABA+Di4oLi4mIsX75cCo7A/WD02WefITo6GpmZmQgJCYGFhQXOnTuHdevW4a233sLEiRMr1P569eph7dq16NOnD9q3b69zB+DTp09j/vz5OjfM0wSVkydPYvr06VK5n58fNm/eDJVKhRdffLFS+3To0KFYvXo13nnnHezcuRNdunRBSUkJTpw4gdWrVyMhIUFrvJ0+I0aMwI0bN9CtWzc0bNgQ58+fxzfffAN3d/dyb5VgKGtra/j4+CAiIgJZWVmYN28emjdvjpEjR1bZOqiG1PwFVCRn+i7NVqvVwt3dXSxcuFDrEkkh7l/mOn78eOHo6ChMTEzECy+8IL788kup3sGDB4WxsbHW5dZCCFFcXCxefPFF4ejoKG7evCmEuH9psrm5uThz5ozo2bOnMDMzE3Z2diImJka6hFYDD12aLYQQhw4dEkFBQaJ27drCzMxMdO3aVfz555862/j999+Lpk2bCiMjowpddrxq1Srh6uoqVCqVaNOmjfjjjz/Ea6+9JlxdXaU6mkuzH7ws+EHbtm0TXbp0EbVq1RKWlpYiODhYHD9+XKdeYmKiaNOmjTA1NRUtWrQQK1asKPPS7NGjR4sVK1aIF154QahUKuHh4aF3W7KyssTo0aOFk5OTMDExEfb29qJ79+5iyZIlWvXOnz8v+vbtK8zMzET9+vXF2LFjxZYtWwy6NPv48eOif//+wsLCQtStW1dERkaKu3fv6p1n1qxZAoCYPn16uct+kL+/v2jdurXeaWW9B2fOnBH9+/cXVlZWQq1Wi44dO4oNGzbozH/mzBkRGBgoVCqVsLOzE1OmTBFbt27V2v6zZ8+KN998UzRr1kyo1WphbW0tunbtKrZt26azvF9//VX4+PgIc3NzYW5uLlxdXcXo0aPFyZMnK7y9D27byJEjRaNGjYSJiYmoX7++6Nu3r87l0Q+ytbUVAERWVpZUtmfPHgFA+Pr66tQva9/qu2VAYWGhmDlzpmjdurVQqVSibt26wtPTU8TGxorbt29L9TT99GFr164VPXv2FLa2tsLU1FQ0atRIvP322+LKlStSHc130V9//aU178OXy2varu/S7F9++UVER0cLW1tbUatWLdGnTx9x/vz5MvcZPb0UQnCUFMnDsGHDsHbt2gof8XiS3N3dYWNjU6FLS6uDQqHA6NGjdU7xycn8+fMxfvx4ZGZm6lyxQvQ4kpKS0LVrV6xZs0brdgMkXxwzQ/QYioqKdE41JCUlIS0tTev26WQYIQT+7//+D/7+/gwyRPRIDDNEj+G///0vTExMEBISgiVLliAqKgovvfQS7O3t8c4771TpuvQ9H8jZ2bnGHuyp7zlEVS0vLw+//PIL3n77bRw5ckQaBF6T2/k0uHv3Lq5evVruv8LCwifdTNmpaD+qib5OVYthhqQfyQMHDjzppjxxmodLKhQKGBsbw9raGp6enhg7dqzeu8FqBjvv3r0b7733HuLi4tCnTx/s2bMH9erVK3M93333HeLi4qprMx7Lk2zbtWvXMGTIEKxZswZTpkxB3759a2zdDz4MVB/NAz31PfepqsXHx8PBwaHcf3/++Welly+EwPLly+Hn5wcrKyuYmZnBzc0Nn3zySYWuNiJ62vBqJpKNuLi4GvmR7dGjB8LCwiCEwO3bt5GWloYff/wR3333HWbOnImoqCiprpubG+7evQsTExOD7oPy3XffoX79+hg2bFiF5xk6dCgGDRpU5s3RHvQ4Q+HKapufnx/u3r0LU1PTSi/7UTQ3cXveBQUFPXK8VVlPF3+UkpISDBkyBKtXr4avry+mTZsGMzMzJCcnIzY2FmvWrMG2bdtgZ2dXqeXLQUBAQLn9rCb6OlUthhmih7i4uOjc1+SLL75AcHAwJkyYAFdXV+lycYVCAbVaXa3t0TzOQHNvmCdFqVRW+7bSfZqjL9Vh1qxZWL16NSZOnIgvv/xSKn/rrbcQGhqKkJAQDBs2TOvZaU+zyj7uozzs6/LD00yk17Bhw1C7dm1cunQJISEhqF27NmxsbDBx4kSdW7iXlpZi/vz5cHNzg1qtho2NDXr16qV12qq4uBiffvopmjVrBpVKBWdnZ0yZMkXnBliac9pJSUno0KEDatWqBTc3N+nc9W+//Satx9PTE4cPH9Zp+4kTJ9C/f39YW1tDrVajQ4cO+OOPPx5rf9SrVw+rVq2CsbExPv/8c6lcc2riwSNGV69eRUREBBo2bAiVSgUHBwe88sor0lgXZ2dnHDt2DLt27ZJOaWkGC2tO+e3atQujRo2Cra0tGjZsqDVN33NjEhMT4e7uDrVajVatWmk98BP43ymShz28zPLaVtY4gjVr1sDT0xO1atVC/fr18cYbb+DSpUtadQzpT+UpbzvPnj0LhUKBr776Sme+P//8EwqFAr/88kuF11VRFdn+gIAAvQPChw0bpnPn6lWrVsHT0xMWFhawtLSEm5sb5s+fr1Xn1q1bGDduHJycnKBSqdC8eXPMnDlTekRFWe7evYsvv/wSLi4umDFjhs704OBghIeHY8uWLdi3bx8AICoqCvXq1dM6kvHee+9BoVDg66+/lsqysrKgUCiwcOFCAP/rL6tXr8bnn3+Ohg0bQq1Wo3v37nrvkP3f//4XvXr1Qp06dWBmZgZ/f3/s3btXq46mHx8/fhxDhgxB3bp1pYeEPupz96A9e/agY8eOUKvVaNq0KX766Set6fr6ekBAANq0aYODBw+ic+fOqFWrFpo0aYJFixaVu8+pZjDMUJlKSkoQFBSEevXqYfbs2fD398ecOXN07no6fPhw6Yt15syZmDx5MtRqtfRlCNy/CdbUqVPRvn17fPXVV/D398eMGTMwaNAgnfWePn0aQ4YMQXBwMGbMmIGbN28iODgYK1euxPjx4/HGG28gNjYWZ86cQWhoqNYX+LFjx9CpUyekp6dj8uTJmDNnDszNzRESElLmnXIrqlGjRvD398e+ffvKfcr2a6+9hnXr1iEiIgLfffcdxowZgzt37uDChQsAgHnz5qFhw4ZwdXXF8uXLsXz5cnz44Ydayxg1ahSOHz+OqVOnYvLkyeW2KyMjAwMHDkTv3r0xY8YMGBsbY8CAAZW6LLwibXtQXFwcQkNDYWRkhBkzZmDkyJH47bff4OPjo3MX5Yr2p8puZ9OmTdGlSxesXLlSZ96VK1fCwsICr7zyyiPXk5+fr/W0Z80/fU/BNmT7K2Lr1q0YPHgw6tati5kzZ+KLL75AQECA1o96fn4+/P39sWLFCoSFheHrr79Gly5dEB0drXUKVJ89e/bg5s2bGDJkCIyN9R+YDwsLAwBs2LABwP0b7N24cQPHjh2T6iQnJ0OpVEpP2daUAfdP0Tzoiy++wLp16zBx4kRER0dj3759eP3117Xq7NixA35+fsjJyUFMTAymT5+OW7duoVu3bti/f79OGwcMGID8/HxMnz5dusHdoz53GqdPn0b//v3Ro0cPzJkzB3Xr1sWwYcO0tq8sN2/exEsvvQRPT0/MmjULDRs2xLvvvoulS5c+cl6qZk/sDjf01NB386nw8HABQHzyySdadT08PISnp6f0eseOHQKAGDNmjM5yNTfGS01NFQDEiBEjtKZPnDhRABA7duyQyho3biwAaN3MLiEhQQAQtWrV0rqh1eLFi3VujtW9e3fh5uYm7t27p9WOzp07ixdeeOGR+wJl3MRLY+zYsQKASEtLE0L870Zsy5YtE0IIcfPmzXJvjqfRunVrrZt4aWjeCx8fH1FcXKx32rlz56Qyzf769ddfpbLbt28LBwcH4eHhIZXpu7FeWcssq20P34yssLBQ2NraijZt2mjd+G7Dhg0CgJg6dapUVtH+VJaKbqemT6Snp0tlhYWFon79+iI8PLzcdWjey0f9u3btmsHb//BN2x7cLw/ecG7s2LHC0tJS571/0KeffirMzc3FqVOntMonT54sjIyMxIULF8qcd968eQKAWLduXZl1bty4IQCIfv36CSGEyM7OFgDEd999J4QQ4tatW0KpVIoBAwYIOzs7ab4xY8YIa2tr6XOv6S8tW7YUBQUFUr358+cLAOLIkSNCiPufzxdeeEEEBQVp3XQzPz9fNGnSRPTo0UMq0/TjwYMHa7W5op87TT/avXu3VJadnS1UKpWYMGGCVFbWjfcAiDlz5khlBQUFwt3dXdja2orCwsJy103Vi0dmqFwPX17s6+ur9QyYX3/9FQqFAjExMTrzak5rbNq0CQB0/mqcMGECAGDjxo1a5a1atYK3t7f02svLCwDQrVs3rXuOaMo17blx4wZ27NiB0NBQ3LlzR/qL+t9//0VQUBAyMjJ0Dv8bSvNE4wef5/KgWrVqwdTUFElJSbh582al12PIgxUdHR3x6quvSq8tLS0RFhaGw4cP4+rVq5Vuw6McOHAA2dnZGDVqlNb4gj59+sDV1VXnfQUe3Z/KU5HtDA0NhVqt1jo6k5CQgOvXr1f4+U5vvfUWtm7dqvNv6NChWvUqs/2PYmVlhby8vHKPqq1Zswa+vr6oW7eu1pGjwMBAlJSUaD0/6mGafvvgg18fppmmOfpoY2MDV1dXabl79+6FkZERJk2ahKysLOlhjcnJyfDx8dE5nRkREaE1kFbzKAXN+56amoqMjAwMGTIE//77r7Q9eXl56N69O3bv3q1z+uzhfmTI565Vq1Zaz52ysbFBixYtKtQPjY2N8fbbb0uvTU1N8fbbbyM7OxsHDx585PxUfWQVZnbv3o3g4GA4OjpCoVBg/fr1Bs2vOd/68L+qHjz2rNCMf3lQ3bp1tb4szpw5A0dHR1hbW5e5nPPnz0OpVOo86dbe3h5WVlY6Tx5++CZpmidna55s/XC5pj2nT5+GEAIff/wxbGxstP5pwlZ2dvYjt7s8mrsPl/VjoFKpMHPmTGzevBl2dnbw8/PDrFmzDA4VDz5Z+lGaN2+u8wOieRqzvvECVUXzvrVo0UJnmqurq877WpH+VJ6KbKeVlRWCg4Px888/S3VWrlyJBg0aoFu3bhVazwsvvIDAwECdf02bNtWqZ+j2V8SoUaPg4uKC3r17o2HDhnjzzTexZcsWrToZGRnYsmWLTh/XPPm8vD6u6bdlhfEHpz3Yx319faXTSMnJyejQoQM6dOgAa2trJCcnIycnB2lpaXofTvnw51nzBHLN+64JQ+Hh4Trb9MMPP6CgoAC3b9/WWsbDnw9DPnf6bsJY0X7o6Oio83tRE581ejRZXc2Ul5eHdu3a4c0330S/fv0Mnn/ixIk6ib579+6VfqDas66qr5zRNwDVkPWWVS7+/8BEzV9vEydORFBQkN66DwcqQx09ehRGRkblho1x48YhODgY69evR0JCAj7++GPMmDEDO3bsgIeHR4XWU6tWrcdq58PK2veGDL59XDV1JVZYWBjWrFmDP//8E25ubvjjjz8watQo6aGRT4JCodB7KfDD+9/W1hapqalISEjA5s2bsXnzZixbtgxhYWH48ccfAdzv5z169MD777+vd12aH1d9NA9p/PvvvxESEqK3juap7JonhgOAj48Pvv/+e5w9exbJycnw9fWFQqGAj48PkpOT4ejoiNLSUr1hpqKf2y+//BLu7u5662qOiGro+3xU9HP3qPaQPMkqzPTu3bvcR7MXFBTgww8/xC+//IJbt26hTZs2mDlzpnQVQe3atbU+FGlpaTh+/DhHoz+GZs2aISEhQXqSsD6NGzdGaWkpMjIytJ54m5WVhVu3bqFx48ZV0hbNX84mJibSX6lV6cKFC9i1axe8vb3LPUwP3N8vEyZMwIQJE5CRkQF3d3fMmTMHK1asAFDxYFcRmiNSDy7z1KlTACBdKaP5a/jWrVuwsrKS6uk7elDRtmnet5MnT+oc9Th58mSVva8aFdlOAOjVqxdsbGywcuVKeHl5IT8/X+cUUVUwZPvr1q2r9zSGvv1vamqK4OBgBAcHo7S0FKNGjcLixYvx8ccfo3nz5mjWrBlyc3Mr1cd9fHxgZWWFn3/+GR9++KHeH3bNlT0P3ilXE1K2bt2Kv/76SxqU7ufnh4ULF0pHLDw9PQ1uU7NmzQDcP234uJ/bR33uHtfly5d1LgXX1wep5snqNNOjREZGIiUlBatWrcLff/+NAQMGoFevXtJhzIf98MMPcHFx0fvXBFXMa6+9BiEEYmNjdaZp/tLR3JNl3rx5WtPnzp0L4P4Yg6pga2uLgIAALF68GFeuXNGZfu3atUov+8aNGxg8eDBKSkrKvbonPz8f9+7d0ypr1qwZLCwstC5DNzc3r9TVLvpcvnxZ60qtnJwc/PTTT3B3d4e9vb3UBgBa4yny8vKkv/YfVNG2dejQAba2tli0aJHWtm3evBnp6elV9r5qVGQ7gfvjGgYPHozVq1cjLi4Obm5uaNu2bZW2BTBs+5s1a4YTJ05o9cG0tDSdS4///fdfrddKpVJqu2YdoaGhSElJQUJCgk6bbt26pfOssAeZmZlh4sSJOHnypN5+vHHjRsTFxSEoKAidOnWSyps0aYIGDRrgq6++QlFREbp06QLgfsg5c+YM1q5di06dOpV5hVR5PD090axZM8yePVvvQ2Qr8rmt6OfucRUXF2Px4sXS68LCQixevBg2NjaVCnJUdWR1ZKY8Fy5cwLJly3DhwgU4OjoCuH+6YcuWLVi2bBmmT5+uVf/evXtYuXLlIy97pfJ17doVQ4cOxddff42MjAz06tULpaWlSE5ORteuXREZGYl27dohPDwcS5Yswa1bt+Dv74/9+/fjxx9/REhICLp27Vpl7VmwYAF8fHzg5uaGkSNHomnTpsjKykJKSgr++ecfpKWlPXIZp06dwooVKyCEkMYCrFmzBrm5uZg7dy569epV7rzdu3dHaGgoWrVqBWNjY6xbtw5ZWVlal6F7enpi4cKF+Oyzz9C8eXPY2tpWeEzHw1xcXDB8+HD89ddfsLOzw9KlS5GVlYVly5ZJdXr27IlGjRph+PDhmDRpEoyMjLB06VLY2NjoXLpa0baZmJhg5syZiIiIgL+/PwYPHoysrCzMnz8fzs7O0nOVqkpFtlNDc8nyzp07MXPmzCpth4Yh2//mm29i7ty5CAoKwvDhw5GdnY1FixahdevWWpf5jxgxAjdu3EC3bt3QsGFDnD9/Ht988w3c3d2lo5qTJk3CH3/8gZdffhnDhg2Dp6cn8vLycOTIEaxduxaZmZmoX79+me2ePHkyDh8+jJkzZyIlJQWvvfYaatWqhT179mDFihVo2bKl3pDr6+uLVatWwc3NTTrS1759e5ibm+PUqVMYMmRIpfajUqnEDz/8gN69e6N169aIiIhAgwYNcOnSJezcuROWlpb4z3/+U+4yKvq5e1yOjo6YOXMmMjMz4eLigvj4eKSmpmLJkiUwMTGpsvVQJTypy6geFx66vFBzOaS5ubnWP2NjYxEaGqoz/88//yyMjY3F1atXa7DVT6eyLs02NzfXqavvEt/i4mLx5ZdfCldXV2FqaipsbGxE7969xcGDB6U6RUVFIjY2VjRp0kSYmJgIJycnER0drXUJtRD3L53s06ePznqh55JpzaW0D1+OeebMGREWFibs7e2FiYmJaNCggXj55ZfF2rVrH7kv8MAluEqlUlhZWQkPDw8xduxYcezYMZ36D1+aff36dTF69Gjh6uoqzM3NRZ06dYSXl5dYvXq11nxXr14Vffr0ERYWFgKAdNmuvvdCo6xLs/v06SMSEhJE27ZthUqlEq6urmLNmjU68x88eFB4eXkJU1NT0ahRIzF37ly9yyyrbfouVxVCiPj4eOHh4SFUKpWwtrYWr7/+uvjnn3+06hjSn/QxZDs1WrduLZRKpU5bylJWf3q4rZpLszUqsv1CCLFixQrRtGlTYWpqKtzd3UVCQoLOpdlr164VPXv2FLa2ttL79Pbbb4srV65oLevOnTsiOjpaNG/eXJiamor69euLzp07i9mzZ1foEuGSkhKxbNky0aVLF2FpaSnUarVo3bq1iI2NFbm5uXrnWbBggQAg3n33Xa3ywMBAAUBs375dq1zTXx5+jx7+zGgcPnxY9OvXT9SrV0+oVCrRuHFjERoaqrXcst6Din7uyvp+efjS+bIuzW7durU4cOCA8Pb2Fmq1WjRu3Fh8++23evcX1SyFEPIc9aRQKLBu3TppEFt8fDxef/11HDt2TOc8cO3atbUOQwP3B/5aWlo+9o3UiOjp5OHhAWtra2zfvv1JN4WeAQEBAbh+/TqOHj36pJtCejwzp5k8PDxQUlKC7OzsR46BOXfuHHbu3PnYt7gnoqfTgQMHkJqa+tQ+mZyIqpaswkxubq7WMz3OnTuH1NRUWFtbw8XFBa+//jrCwsIwZ84ceHh44Nq1a9i+fTvatm2rNRhv6dKlcHBwKPfKKCKSn6NHj+LgwYOYM2cOHBwcMHDgwCfdJCKqAbK6munAgQPw8PCQ7hkQFRUFDw8PTJ06FQCk+zFMmDABLVq0QEhICP766y+tmySVlpYiLi4Ow4YNe6JPICaiqrd27VpERESgqKgIv/zyC598TPSckO2YGSIiIiJAZkdmiIiIiB7GMENERESyJosBwKWlpbh8+TIsLCyq9DbwRERE9PQSQuDOnTtwdHQs9/lqsggzly9f1nliMhERET0fLl68iIYNG5Y5XRZhRvNQv4sXL8LS0vIJt+bZUFRUhMTERPTs2ZO34aanGvsqyQH7afXIycmBk5PTIx/uK4swozm1ZGlpyTBTRYqKimBmZgZLS0t+8Oipxr5KcsB+Wr0eNcSEA4CJiIhI1hhmiIiISNYYZoiIiEjWGGaIiIhI1hhmiIiISNYYZoiIiEjWGGaIiIhI1hhmiIiISNYYZoiIiEjWDA4zu3fvRnBwMBwdHaFQKLB+/fpHzpOUlIT27dtDpVKhefPmiIuLq0RTiYiIiHQZHGby8vLQrl07LFiwoEL1z507hz59+qBr165ITU3FuHHjMGLECCQkJBjcWCIiIqKHGfxspt69e6N3794Vrr9o0SI0adIEc+bMAQC0bNkSe/bswVdffYWgoCBDV09ERESkpdofNJmSkoLAwECtsqCgIIwbN67MeQoKClBQUCC9zsnJAXD/QV5FRUXV0k45y8/Px8mTJw2aJ/duAf48cgYWVvtQu5bKoHlbtGgBMzMzg+YhAthXST4M7avsp9Wjor/51R5mrl69Cjs7O60yOzs75OTk4O7du6hVq5bOPDNmzEBsbKxOeWJiIt9wPc6cOYMJEyZUat5ZlZhnzpw5aNasWaXWR8839lWSi8r2VfbTqpWfn1+hetUeZiojOjoaUVFR0uucnBw4OTmhZ8+esLS0fIItezrl5+fDx8fHoHlOXbmNSeuO48tXW8HFoY5B8/KvCKos9lWSC0P7Kvtp9dCcmXmUag8z9vb2yMrK0irLysqCpaWl3qMyAKBSqaBS6R6mMzExgYmJSbW0U87q1KmDjh07GjSP6fl/oUopRBv39nBvXK+aWkakjX2V5MLQvsp+Wj0q+ptf7feZ8fb2xvbt27XKtm7dCm9v7+peNRERET0HDA4zubm5SE1NRWpqKoD7l16npqbiwoULAO6fIgoLC5Pqv/POOzh79izef/99nDhxAt999x1Wr16N8ePHV80WEBER0XPN4DBz4MABeHh4wMPDAwAQFRUFDw8PTJ06FQBw5coVKdgAQJMmTbBx40Zs3boV7dq1w5w5c/DDDz/wsmwiIiKqEgaPmQkICIAQoszp+u7uGxAQgMOHDxu6KiIiIqJH4rOZiIiISNYYZoiIiEjWGGaIiIhI1hhmiIiISNYYZoiIiEjWGGaIiIhI1hhmiIiISNYYZoiIiEjWGGaIiIhI1hhmiIiISNYYZoiIiEjWGGaIiIhI1hhmiIiISNYYZoiIiEjWGGaIiIhI1hhmiIiISNYYZoiIiEjWGGaIiIhI1hhmiIiISNYYZoiIiEjWGGaIiIhI1hhmiIiISNYYZoiIiEjWGGaIiIhI1hhmiIiISNYYZoiIiEjWGGaIiIhI1hhmiIiISNYYZoiIiEjWGGaIiIhI1hhmiIiISNYYZoiIiEjWGGaIiIhI1hhmiIiISNYYZoiIiEjWGGaIiIhI1hhmiIiISNYYZoiIiEjWGGaIiIhI1hhmiIiISNYYZoiIiEjWGGaIiIhI1hhmiIiISNYYZoiIiEjWGGaIiIhI1hhmiIiISNYYZoiIiEjWGGaIiIhI1hhmiIiISNYYZoiIiEjWGGaIiIhI1hhmiIiISNYYZoiIiEjWGGaIiIhI1hhmiIiISNYqFWYWLFgAZ2dnqNVqeHl5Yf/+/eXWnzdvHlq0aIFatWrByckJ48ePx7179yrVYCIiIqIHGRxm4uPjERUVhZiYGBw6dAjt2rVDUFAQsrOz9db/+eefMXnyZMTExCA9PR3/93//h/j4eEyZMuWxG09ERERkbOgMc+fOxciRIxEREQEAWLRoETZu3IilS5di8uTJOvX//PNPdOnSBUOGDAEAODs7Y/Dgwfjvf/9b5joKCgpQUFAgvc7JyQEAFBUVoaioyNAmkx7FxcXSf7lP6WnGvkpywH5aPSq6Lw0KM4WFhTh48CCio6OlMqVSicDAQKSkpOidp3PnzlixYgX279+Pjh074uzZs9i0aROGDh1a5npmzJiB2NhYnfLExESYmZkZ0mQqw8VcADDGvn37cOnok24NUdnYV0kO2E+rR35+foXqGRRmrl+/jpKSEtjZ2WmV29nZ4cSJE3rnGTJkCK5fvw4fHx8IIVBcXIx33nmn3NNM0dHRiIqKkl7n5OTAyckJPXv2hKWlpSFNpjKkXbgBHDmATp06oV0j6yfdHKIysa+SHLCfVg/NmZlHMfg0k6GSkpIwffp0fPfdd/Dy8sLp06cxduxYfPrpp/j444/1zqNSqaBSqXTKTUxMYGJiUt1Nfi4YGxtL/+U+pacZ+yrJAftp9ajovjQozNSvXx9GRkbIysrSKs/KyoK9vb3eeT7++GMMHToUI0aMAAC4ubkhLy8Pb731Fj788EMolbw6nIiIiCrPoCRhamoKT09PbN++XSorLS3F9u3b4e3trXee/Px8ncBiZGQEABBCGNpeIiIiIi0Gn2aKiopCeHg4OnTogI4dO2LevHnIy8uTrm4KCwtDgwYNMGPGDABAcHAw5s6dCw8PD+k008cff4zg4GAp1BARERFVlsFhZuDAgbh27RqmTp2Kq1evwt3dHVu2bJEGBV+4cEHrSMxHH30EhUKBjz76CJcuXYKNjQ2Cg4Px+eefV91WEBER0XOrUgOAIyMjERkZqXdaUlKS9gqMjRETE4OYmJjKrIqIiIioXBx9S0RERLLGMENERESyxjBDREREssYwQ0RERLLGMENERESyxjBDREREssYwQ0RERLLGMENERESyVu1PzSYiInrSzl3PQ15BcbUt/8y1POm/midoVxdzlTGa1Dev1nXIDcMMERE9085dz0PX2Uk1sq4Ja4/UyHp2TgxgoHkAwwwRET3TNEdk5g10R3Pb2tWzjrsF2JCUgpcDvGFeS1Ut6wCA09m5GBefWq1HmeSIYYaIiJ4LzW1ro02DOtWy7KKiIly1Ado3rgsTE5NqWQeVjQOAiYiISNYYZoiIiEjWGGaIiIhI1hhmiIiISNYYZoiIiEjWGGaIiIhI1nhpNhFVWnXfVRWouTur8q6qRPLFMENElVKTd1UFaubOqryrKpE8McwQUaXUxF1VgZq5syrvqkokbwwzRPRYqvOuqgDvrEpEj8Yw8xR6lsYhAByLQERE1Yth5inzLI5DADgWgYiIqg/DzFPmWRqHAHAsAhERVT+GmacUxyEQERFVDG+aR0RERLLGMENERESyxjBDREREssYwQ0RERLLGMENERESyxjBDREREssYwQ0RERLLGMENERESyxjBDREREssYwQ0RERLLGMENERESyxjBDREREssYwQ0RERLLGMENERESyxjBDREREssYwQ0RERLLGMENERESyxjBDREREssYwQ0RERLLGMENERESyxjBDREREssYwQ0RERLLGMENERESyxjBDREREssYwQ0RERLLGMENERESyxjBDREREssYwQ0RERLJWqTCzYMECODs7Q61Ww8vLC/v37y+3/q1btzB69Gg4ODhApVLBxcUFmzZtqlSDiYiIiB5kbOgM8fHxiIqKwqJFi+Dl5YV58+YhKCgIJ0+ehK2trU79wsJC9OjRA7a2tli7di0aNGiA8+fPw8rKqiraT0RERM85g8PM3LlzMXLkSERERAAAFi1ahI0bN2Lp0qWYPHmyTv2lS5fixo0b+PPPP2FiYgIAcHZ2frxWExEREf1/BoWZwsJCHDx4ENHR0VKZUqlEYGAgUlJS9M7zxx9/wNvbG6NHj8bvv/8OGxsbDBkyBB988AGMjIz0zlNQUICCggLpdU5ODgCgqKgIRUVFhjRZdoqLi6X/Vue2apZd3fuzpraHat6z1FfZT59tNfH+8ju1elR0Gw0KM9evX0dJSQns7Oy0yu3s7HDixAm985w9exY7duzA66+/jk2bNuH06dMYNWoUioqKEBMTo3eeGTNmIDY2Vqc8MTERZmZmhjRZdi7mAoAx9uzZg/O1q399W7durdbl1/T2UM15lvoq++mzrSbfX36nVq38/PwK1TP4NJOhSktLYWtriyVLlsDIyAienp64dOkSvvzyyzLDTHR0NKKioqTXOTk5cHJyQs+ePWFpaVndTX6ijl3Owewj++Dj44PWjtW3rUVFRdi6dSt69Oghnf6rDjW1PVTznqW+yn76bKuJ95ffqdVDc2bmUQwKM/Xr14eRkRGysrK0yrOysmBvb693HgcHB5iYmGidUmrZsiWuXr2KwsJCmJqa6syjUqmgUql0yk1MTKq1kzwNjI2Npf/WxLZW9z6t6e2hmvMs9VX202dbTb6//E6tWhXdRoMuzTY1NYWnpye2b98ulZWWlmL79u3w9vbWO0+XLl1w+vRplJaWSmWnTp2Cg4OD3iBDREREZAiD7zMTFRWF77//Hj/++CPS09Px7rvvIi8vT7q6KSwsTGuA8LvvvosbN25g7NixOHXqFDZu3Ijp06dj9OjRVbcVRERE9NwyeMzMwIEDce3aNUydOhVXr16Fu7s7tmzZIg0KvnDhApTK/2UkJycnJCQkYPz48Wjbti0aNGiAsWPH4oMPPqi6rSAiIqLnVqUGAEdGRiIyMlLvtKSkJJ0yb29v7Nu3rzKrIiIiIioXn81EREREssYwQ0RERLLGMENERESyxjBDREREssYwQ0RERLLGMENERESyxjBDREREssYwQ0RERLLGMENERESyxjBDREREssYwQ0RERLLGMENERESyxjBDREREssYwQ0RERLLGMENERESyxjBDREREssYwQ0RERLLGMENERESyxjBDREREssYwQ0RERLLGMENERESyxjBDREREssYwQ0RERLLGMENERESyZvykG0BERFSdCkruQam+hHM5J6FU166WdRQXF+Ny8WWk30iHsXH1/bSey8mFUn0JBSX3ANSptvXIDcMMEVVKTfxAADXzI8EfiGfb5bzzMG/yDabsr/51fbflu2pfh3kT4HKeOzxhV+3rkguGGSKqlJr8gQCq/0eCPxDPLkfzxsg79x7mD3RHM9vqOzKzd89edPHpUq1HZs5k52JsfCocuzautnXIEcMMEVVKTfxAADXzI8EfiGebykiN0nsN0MSyBVrVq54jb0VFRThnfA4trVvCxMSkWtYBAKX3bqP03jWojNTVtg45YpghokqpiR8IoGZ+JPgDQSRvvJqJiIiIZI1hhoiIiGSNYYaIiIhkjWGGiIiIZI1hhoiIiGSNYYaIiIhkjWGGiIiIZI1hhoiIiGSNYYaIiIhkjWGGiIiIZI1hhoiIiGSNYYaIiIhkjWGGiIiIZI1hhoiIiGSNYYaIiIhkjWGGiIiIZI1hhoiIiGSNYYaIiIhkjWGGiIiIZI1hhoiIiGTN+Ek3gLQVlNyDUn0J53JOQqmuXW3rKS4uxuXiy0i/kQ5j4+rrBudycqFUX0JByT0AdaptPURE9PximHnKXM47D/Mm32DK/ppZ33dbvqv2dZg3AS7nucMTdtW+LiIiev4wzDxlHM0bI+/ce5g/0B3NbKv3yMzePXvRxadLtR6ZOZOdi7HxqXDs2rja1kFERM83hpmnjMpIjdJ7DdDEsgVa1au+0zJFRUU4Z3wOLa1bwsTEpNrWU3rvNkrvXYPKSF1t6yAioucbBwATERGRrDHMEBERkaxVKswsWLAAzs7OUKvV8PLywv79FRutumrVKigUCoSEhFRmtUREREQ6DA4z8fHxiIqKQkxMDA4dOoR27dohKCgI2dnZ5c6XmZmJiRMnwtfXt9KNJSIiInqYwWFm7ty5GDlyJCIiItCqVSssWrQIZmZmWLp0aZnzlJSU4PXXX0dsbCyaNm36WA0mIiIiepBBVzMVFhbi4MGDiI6OlsqUSiUCAwORkpJS5nyffPIJbG1tMXz4cCQnJz9yPQUFBSgoKJBe5+TkALh/BU5RUZEhTZad4uJi6b/Vua2aZVf3/qyp7aGa9yz1VfbTZ1tNvL/8Tq0eFd1Gg8LM9evXUVJSAjs77Zuf2dnZ4cSJE3rn2bNnD/7v//4PqampFV7PjBkzEBsbq1OemJgIMzMzQ5osOxdzAcAYe/bswfnqu82MZOvWrdW6/JreHqo5z1JfZT99ttXk+8vv1KqVn59foXrVep+ZO3fuYOjQofj+++9Rv379Cs8XHR2NqKgo6XVOTg6cnJzQs2dPWFpaVkdTnxrHLudg9pF98PHxQWvH6tvWoqIibN26FT169KjW+8zU1PZQzXuW+ir76bOtJt5ffqdWD82ZmUcxKMzUr18fRkZGyMrK0irPysqCvb29Tv0zZ84gMzMTwcHBUllpaen9FRsb4+TJk2jWrJnOfCqVCiqVSqfcxMSkWjvJ00BzN15jY+Ma2dbq3qc1vT1Uc56lvsp++myryfeX36lVq6LbaNAAYFNTU3h6emL79u1SWWlpKbZv3w5vb2+d+q6urjhy5AhSU1Olf3379kXXrl2RmpoKJycnQ1ZPREREpMPg00xRUVEIDw9Hhw4d0LFjR8ybNw95eXmIiIgAAISFhaFBgwaYMWMG1Go12rRpozW/lZUVAOiUExEREVWGwWFm4MCBuHbtGqZOnYqrV6/C3d0dW7ZskQYFX7hwAUolbyxMRERENaNSA4AjIyMRGRmpd1pSUlK588bFxVVmlURERER68RAKERERyRrDDBEREckawwwRERHJGsMMERERyRrDDBEREckawwwRERHJGsMMERERyRrDDBEREckawwwRERHJGsMMERERyRrDDBEREckawwwRERHJGsMMERERyRrDDBEREckawwwRERHJGsMMERERyRrDDBEREckawwwRERHJGsMMERERyRrDDBEREckawwwRERHJGsMMERERyRrDDBEREckawwwRERHJGsMMERERyRrDDBEREckawwwRERHJGsMMERERyRrDDBEREckawwwRERHJGsMMERERyRrDDBEREckawwwRERHJGsMMERERyRrDDBEREckawwwRERHJGsMMERERyZrxk24AEcnT3aISAMDRS7erdT15dwtw4Bpgf/4mzGupqmUdp7Nzq2W5RFQzGGaIqFLO/P8AMPm3IzWwNmMsP/1Xta/FXMWvRCI54ieXiCqlZ2t7AEAz29qoZWJUbes5eeU2Jqw9gjn93dDCoU61rcdcZYwm9c2rbflEVH0YZoioUqzNTTGoY6NqX09xcTEAoJmNOdo0qL4wQ0TyxTBDRETPtJoY31UTY7sAju8qC8MMERE902pufFfNjO0COL7rYdwbRET0TKuJ8V01NbYL4PgufRhmiIjomVYT47s4tuvJ4k3ziIiISNYYZoiIiEjWGGaIiIhI1jhm5inzLN0iHuBlhEREVP0YZp4yz+It4gFeRkhERNWHvzBPmWftFvEALyMkIqLqxTDzlOEt4omIiAzDAcBEREQkawwzREREJGuVCjMLFiyAs7Mz1Go1vLy8sH///jLrfv/99/D19UXdunVRt25dBAYGllufiIiIyBAGh5n4+HhERUUhJiYGhw4dQrt27RAUFITs7Gy99ZOSkjB48GDs3LkTKSkpcHJyQs+ePXHp0qXHbjwRERGRwWFm7ty5GDlyJCIiItCqVSssWrQIZmZmWLp0qd76K1euxKhRo+Du7g5XV1f88MMPKC0txfbt2x+78UREREQGXc1UWFiIgwcPIjo6WipTKpUIDAxESkpKhZaRn5+PoqIiWFtbl1mnoKAABQUF0uucnBwAQFFREYqKigxpMpVBczVTcXEx9yk91dhXSQ7YT6tHRfelQWHm+vXrKCkpgZ2dnVa5nZ0dTpw4UaFlfPDBB3B0dERgYGCZdWbMmIHY2Fid8sTERJiZmRnSZCrDxVwAMMa+fftw6eiTbg1R2dhXSQ7YT6tHfn5+herV6H1mvvjiC6xatQpJSUlQq9Vl1ouOjkZUVJT0OicnRxprY2lpWRNNfealXbgBHDmATp06oV2jso+SET1p7KskB+yn1UNzZuZRDAoz9evXh5GREbKysrTKs7KyYG9vX+68s2fPxhdffIFt27ahbdu25dZVqVRQqXSfF2RiYgITExNDmkxlMDY2lv7LfUpPM/ZVkgP20+pR0X1p0ABgU1NTeHp6ag3e1Qzm9fb2LnO+WbNm4dNPP8WWLVvQoUMHQ1ZJREREVC6DTzNFRUUhPDwcHTp0QMeOHTFv3jzk5eUhIiICABAWFoYGDRpgxowZAICZM2di6tSp+Pnnn+Hs7IyrV68CAGrXro3atWtX4aYQERHR88jgMDNw4EBcu3YNU6dOxdWrV+Hu7o4tW7ZIg4IvXLgApfJ/B3wWLlyIwsJC9O/fX2s5MTExmDZt2uO1noiIiJ57lRoAHBkZicjISL3TkpKStF5nZmZWZhVEREREFcJnMxEREZGsMcwQERGRrDHMEBERkawxzBAREZGsMcwQERGRrDHMEBERkawxzBAREZGsMcwQERGRrDHMEBERkawxzBAREZGsMcwQERGRrDHMEBERkawxzBAREZGsMcwQERGRrDHMEBERkawxzBAREZGsMcwQERGRrDHMEBERkawxzBAREZGsMcwQERGRrDHMEBERkawxzBAREZGsMcwQERGRrDHMEBERkawxzBAREZGsMcwQERGRrDHMEBERkawxzBAREZGsMcwQERGRrDHMEBERkawxzBAREZGsMcwQERGRrDHMEBERkawxzBAREZGsMcwQERGRrDHMEBERkawxzBAREZGsMcwQERGRrDHMEBERkawxzBAREZGsMcwQERGRrDHMEBERkawxzBAREZGsMcwQERGRrDHMEBERkawxzBAREZGsMcwQERGRrDHMEBERkawxzBAREZGsMcwQERGRrDHMEBERkawxzBAREZGsMcwQERGRrDHMEBERkawxzBAREZGsVSrMLFiwAM7OzlCr1fDy8sL+/fvLrb9mzRq4urpCrVbDzc0NmzZtqlRjiYiIiB5mcJiJj49HVFQUYmJicOjQIbRr1w5BQUHIzs7WW//PP//E4MGDMXz4cBw+fBghISEICQnB0aNHH7vxRERERAohhDBkBi8vL7z44ov49ttvAQClpaVwcnLCe++9h8mTJ+vUHzhwIPLy8rBhwwaprFOnTnB3d8eiRYsqtM6cnBzUqVMHt2/fhqWlpSHNfS7k5+fjxIkTBs1z8sotRK05grkD3NDCwcqgeV1dXWFmZmbQPEQA+yrJh6F9lf20elT099/YkIUWFhbi4MGDiI6OlsqUSiUCAwORkpKid56UlBRERUVplQUFBWH9+vVlrqegoAAFBQXS65ycHABAUVERioqKDGnyc+Ho0aPw8vKq1LxDfjR8nv/+97/w8PCo1Pro+ca+SnJR2b7Kflq1Kvqbb1CYuX79OkpKSmBnZ6dVbmdnV2aCvXr1qt76V69eLXM9M2bMQGxsrE55YmIi06seBQUFmDNnjkHzFJUCN+4B1mrAxMCTjZmZmbhy5YphMxGBfZXkw9C+yn5aPfLz8ytUz6AwU1Oio6O1jubk5OTAyckJPXv25GmmKlJUVIStW7eiR48eMDExedLNISoT+yrJAftp9dCcmXkUg8JM/fr1YWRkhKysLK3yrKws2Nvb653H3t7eoPoAoFKpoFKpdMpNTEzYSaoY9ynJBfsqyQH7adWq6L406GCYqakpPD09sX37dqmstLQU27dvh7e3t955vL29teoDwNatW8usT0RERGQIg08zRUVFITw8HB06dEDHjh0xb9485OXlISIiAgAQFhaGBg0aYMaMGQCAsWPHwt/fH3PmzEGfPn2watUqHDhwAEuWLKnaLSEiIqLnksFhZuDAgbh27RqmTp2Kq1evwt3dHVu2bJEG+V64cAFK5f8O+HTu3Bk///wzPvroI0yZMgUvvPAC1q9fjzZt2lTdVhAREdFzq1IDgCMjIxEZGal3WlJSkk7ZgAEDMGDAgMqsioiIiKhcfDYTERERyRrDDBEREckawwwRERHJGsMMERERyRrDDBEREckawwwRERHJGsMMERERyRrDDBEREcnaU/nU7IcJIQBU/OmZ9GhFRUXIz89HTk4OH4pGTzX2VZID9tPqofnd1+SAssgizNy5cwcA4OTk9IRbQkRERDXtzp07qFOnTpnTFeJRcecpUFpaisuXL8PCwgIKheJJN+eZkJOTAycnJ1y8eBGWlpZPujlEZWJfJTlgP60eQgjcuXMHjo6OWs99fJgsjswolUo0bNjwSTfjmWRpackPHskC+yrJAftp1SvviIwGBwATERGRrDHMEBERkawxzDynVCoVYmJioFKpnnRTiMrFvkpywH76ZMliADARERFRWXhkhoiIiGSNYYaIiIhkjWGGiIiIZI1hhoieK8OGDUNISMiTbgbRIykUCqxfv/5JN0MWGGaeUQEBARg3btyTbgYR0XOFAeTJYJh5ihQWFj7pJhARPZf4/StvDDOPISAgAGPGjMH7778Pa2tr2NvbY9q0adL0Cxcu4JVXXkHt2rVhaWmJ0NBQZGVlSdOnTZsGd3d3/PDDD2jSpAnUajUA4NatWxgxYgRsbGxgaWmJbt26IS0tTWe+5cuXw9nZGXXq1MGgQYOkB3IOGzYMu3btwvz586FQKKBQKJCZmVnutiQlJUGhUGD79u3o0KEDzMzM0LlzZ5w8eVKr3sKFC9GsWTOYmpqiRYsWWL58udb08rb59u3bMDIywoEDBwDcf+aWtbU1OnXqJM2/YsUK6YGimZmZUCgU+O2339C1a1eYmZmhXbt2SElJqcjbQ09AQUEBxowZA1tbW6jVavj4+OCvv/4CAHTo0AGzZ8+W6oaEhMDExAS5ubkAgH/++QcKhQKnT58GADg7O2P69Ol48803YWFhgUaNGmHJkiVa67t48SJCQ0NhZWUFa2trvPLKK1p9vaSkBFFRUbCyskK9evXw/vvvP/Lpu/R8CAgIQGRkJMaNG4f69esjKCgIR48eRe/evVG7dm3Y2dlh6NChuH79utY85X3nOzs7AwBeffVVKBQK6TUA/P7772jfvj3UajWaNm2K2NhYFBcXS9MzMjLg5+cHtVqNVq1aYevWrdW9C54tgirN399fWFpaimnTpolTp06JH3/8USgUCpGYmChKSkqEu7u78PHxEQcOHBD79u0Tnp6ewt/fX5o/JiZGmJubi169eolDhw6JtLQ0IYQQgYGBIjg4WPz111/i1KlTYsKECaJevXri33//learXbu26Nevnzhy5IjYvXu3sLe3F1OmTBFCCHHr1i3h7e0tRo4cKa5cuSKuXLkiiouLy92WnTt3CgDCy8tLJCUliWPHjglfX1/RuXNnqc5vv/0mTExMxIIFC8TJkyfFnDlzhJGRkdixY4cQQlRom9u3by++/PJLIYQQqampwtraWpiamoo7d+4IIYQYMWKEeP3114UQQpw7d04AEK6urmLDhg3i5MmTon///qJx48aiqKjoMd45qi5jxowRjo6OYtOmTeLYsWMiPDxc1K1bV/z7778iKipK9OnTRwghRGlpqbC2thb169cXmzdvFkIIsWLFCtGgQQNpWY0bNxbW1tZiwYIFIiMjQ8yYMUMolUpx4sQJIYQQhYWFomXLluLNN98Uf//9tzh+/LgYMmSIaNGihSgoKBBCCDFz5kxRt25d8euvv4rjx4+L4cOHCwsLC/HKK6/U7I6hp46/v7+oXbu2mDRpkjhx4oTYt2+fsLGxEdHR0SI9PV0cOnRI9OjRQ3Tt2lVrnrK+84UQIjs7WwAQy5YtE1euXBHZ2dlCCCF2794tLC0tRVxcnDhz5oxITEwUzs7OYtq0aUKI+9+dbdq0Ed27dxepqali165dwsPDQwAQ69atq/F9I0cMM4/B399f+Pj4aJW9+OKL4oMPPhCJiYnCyMhIXLhwQZp27NgxAUDs379fCHE/lJiYmEgdXgghkpOThaWlpbh3757Wcps1ayYWL14szWdmZiZycnKk6ZMmTRJeXl5abRs7dmyFt0UTZrZt2yaVbdy4UQAQd+/eFUII0blzZzFy5Eit+QYMGCBeeuklIYSo0DY/+IM2b948MXDgQNGuXTvpB6158+ZiyZIlQoj/hZkffvhBZ3np6ekV3jaqGbm5ucLExESsXLlSKissLBSOjo5i1qxZ4o8//hB16tQRxcXFIjU1Vdjb24uxY8eKDz74QAhxP8gOGTJEmrdx48bijTfekF6XlpYKW1tbsXDhQiGEEMuXLxctWrQQpaWlUp2CggJRq1YtkZCQIIQQwsHBQcyaNUuaXlRUJBo2bMgwQ8Lf3194eHhIrz/99FPRs2dPrToXL14UAMTJkyelecr6ztfQF0C6d+8upk+frlW2fPly4eDgIIQQIiEhQRgbG4tLly5J0zdv3swwYwCeZnpMbdu21Xrt4OCA7OxspKenw8nJSTplAgCtWrWClZUV0tPTpbLGjRvDxsZGep2Wlobc3FzUq1cPtWvXlv6dO3cOZ86ckeo5OzvDwsJCZ71VuT0ODg4AIC03PT0dXbp00arfpUsXaXsqss3+/v7Ys2cPSkpKsGvXLgQEBCAgIABJSUm4fPkyTp8+jYCAgAq3iZ4eZ86cQVFRkVYfMTExQceOHZGeng5fX1/cuXMHhw8fxq5du+Dv7y+99wCk/vCgB997hUIBe3t76b1PS0vD6dOnYWFhIX1OrK2tce/ePZw5cwa3b9/GlStX4OXlJS3D2NgYHTp0qL6dQLLi6ekp/X9aWhp27typ9b3r6uoKAFrfvWV955cnLS0Nn3zyidayR44ciStXriA/P1/67nR0dJTm8fb2ropNfG4YP+kGyJ2JiYnWa4VCgdLS0grPb25urvU6NzcXDg4O0hf8g6ysrKpsvWV5cLkKhQIAqmS5Gn5+frhz5w4OHTqE3bt3Y/r06bC3t8cXX3yBdu3awdHRES+88EKNtolqhpWVFdq1a4ekpCSkpKSgR48e8PPzw8CBA3Hq1ClkZGTA399fa57y+nlubi48PT2xcuVKnXU9+AcCUVke/P7Nzc1FcHAwZs6cqVNP80cUULnv3tzcXMTGxqJfv3460zRjJenxMMxUk5YtW+LixYu4ePGidKTi+PHjuHXrFlq1alXmfO3bt8fVq1dhbGysNXjMUKampigpKan0/Pq0bNkSe/fuRXh4uFS2d+9eaXsqss1WVlZo27Ytvv32W5iYmMDV1RW2trYYOHAgNmzYoPNjRvKhGRi+d+9eNG7cGABQVFSEv/76S7pNgL+/P3bu3In9+/fj888/h7W1NVq2bInPP/8cDg4OcHFxqfD62rdvj/j4eNja2sLS0lJvHQcHB/z3v/+Fn58fAKC4uBgHDx5E+/btH29j6ZnTvn17/Prrr3B2doaxceV/Gk1MTHS+e9u3b4+TJ0+iefPmeufRfHdeuXJFCk779u2rdBueRzzNVE0CAwPh5uaG119/HYcOHcL+/fsRFhYGf3//cg9zBwYGwtvbGyEhIUhMTERmZib+/PNPfPjhh9JVQBXh7OyM//73v8jMzMT169er5EjGpEmTEBcXh4ULFyIjIwNz587Fb7/9hokTJxq0zQEBAVi5cqUUXDQ/aPHx8QwzMmZubo53330XkyZNwpYtW3D8+HGMHDkS+fn5GD58OID7731CQgKMjY2lQ/gP94eKev3111G/fn288sorSE5Oxrlz55CUlIQxY8bgn3/+AQCMHTsWX3zxBdavX48TJ05g1KhRuHXrVpVuNz0bRo8ejRs3bmDw4MH466+/cObMGSQkJCAiIsKgPwydnZ2xfft2XL16FTdv3gQATJ06FT/99BNiY2Nx7NgxpKenY9WqVfjoo48A3P/udHFxQXh4ONLS0pCcnIwPP/ywWrbzWcUwU00UCgV+//131K1bF35+fggMDETTpk0RHx//yPk2bdoEPz8/REREwMXFBYMGDcL58+dhZ2dX4fVPnDgRRkZGaNWqFWxsbHDhwoXH3SSEhIRg/vz5mD17Nlq3bo3Fixdj2bJl0jiHim6zv78/SkpKtMZHBAQE6JSR/HzxxRd47bXXMHToULRv3x6nT59GQkIC6tatCwDw9fVFaWmpVnCp7HtvZmaG3bt3o1GjRujXrx9atmyJ4cOH4969e9KRmgkTJmDo0KEIDw+Ht7c3LCws8Oqrr1bZ9tKzw9HREXv37kVJSQl69uwJNzc3jBs3DlZWVlAqK/5TOWfOHGzduhVOTk7w8PAAAAQFBWHDhg1ITEzEiy++iE6dOuGrr76SjmAqlUqsW7cOd+/eRceOHTFixAh8/vnn1bKdzyqFELzpAhEREckXj8wQERGRrDHMPCfeeecdrcsCH/z3zjvvPOnmERERVRpPMz0nsrOzkZOTo3eapaUlbG1ta7hFREREVYNhhoiIiGSNp5mIiIhI1hhmiIiISNYYZoiIiEjWGGaIiIhI1hhmiIgeU2ZmJhQKBVJTU8usExcXp/WwWCKqOgwzRDIzbNgwhISE6JQnJSVBoVDI5tlDd+/eRUxMDFxcXKBSqVC/fn0MGDAAx44de9JNqxaap4MTUdVjmCGiGldQUIDAwEAsXboUn332GU6dOoVNmzahuLgYXl5eT90Tg4uKih57GbVq1eL9nIiqCcMM0TPq119/RevWraFSqeDs7Iw5c+ZoTVcoFFi/fr1WmZWVFeLi4gAAhYWFiIyMhIODA9RqNRo3bowZM2ZIdW/duoURI0bAxsYGlpaW6NatG9LS0irUtnnz5iElJQUbNmxAaGgoGjdujI4dO+LXX3+VHhgphMDRo0ehVCpx7do1AMCNGzegVCoxaNAgaVmfffYZfHx8APzv6NT27dvRoUMHmJmZoXPnzjh58qTW+n///Xe0b98earUaTZs2RWxsLIqLi7X2zcKFC9G3b1+Ym5vj888/x82bN/H666/DxsYGtWrVwgsvvIBly5ZpLffs2bPo2rUrzMzM0K5dO6SkpEjTHj7NNG3aNLi7u2Px4sVwcnKCmZkZQkNDcfv27QrtQyL6H4YZomfQwYMHERoaikGDBuHIkSOYNm0aPv74YymoVMTXX3+NP/74A6tXr8bJkyexcuVKODs7S9MHDBiA7OxsbN68GQcPHkT79u3RvXt33Lhx45HL/vnnn9GjRw+0a9dOq1ypVGL8+PE4fvw40tLS0Lp1a9SrVw+7du0CACQnJ2u9BoBdu3bpPHH7ww8/xJw5c3DgwAEYGxvjzTfflKYlJycjLCwMY8eOxfHjx7F48WLExcXpPKV42rRpePXVV3HkyBG8+eab+Pjjj3H8+HFs3rwZ6enpWLhwIerXr6+z3okTJyI1NRUuLi4YPHiwVkh62OnTp7F69Wr85z//wZYtW3D48GGMGjXqkfuPiB4iiEhWwsPDhZGRkTA3N9f6p1arBQBx8+ZNMWTIENGjRw+t+SZNmiRatWolvQYg1q1bp1WnTp06YtmyZUIIId577z3RrVs3UVpaqtOG5ORkYWlpKe7du6dV3qxZM7F48eJHboNarRZjx47VO+3QoUMCgIiPjxdCCNGvXz8xevRoIYQQ48aNE5MmTRJ169YV6enporCwUJiZmYnExEQhhBA7d+4UAMS2bduk5W3cuFEAEHfv3hVCCNG9e3cxffp0rXUuX75cODg4SK8BiHHjxmnVCQ4OFhEREXrbfO7cOQFA/PDDD1LZsWPHBACRnp4uhBBi2bJlok6dOtL0mJgYYWRkJP755x+pbPPmzUKpVIorV67oXQ8R6ccjM0Qy1LVrV6Smpmr9++GHH6Tp6enp6NKli9Y8Xbp0QUZGBkpKSiq0jmHDhiE1NRUtWrTAmDFjkJiYKE1LS0tDbm4u6tWrp/XQ0nPnzuHMmTMVWr6o4JNU/P39kZSUBOD+UZhu3brBz88PSUlJ+Ouvv1BUVKSzrW3btpX+38HBAcD955Np2v7JJ59otXvkyJG4cuUK8vPzpfk6dOigtcx3330Xq1atgru7O95//338+eefOm0tb736NGrUCA0aNJBee3t7o7S0VOe0GBGVz/hJN4CIDGdubo7mzZtrlf3zzz8GLUOhUOgEigcHurZv3x7nzp3D5s2bsW3bNoSGhiIwMBBr165Fbm4uHBwcpJDxoIpcfuzi4oL09HS90zTlLi4uAICAgACMGzcOGRkZOH78OHx8fHDixAkkJSXh5s2b0tiYB5mYmGhtJwCUlpYCAHJzcxEbG4t+/frprFutVkv/b25urjWtd+/eOH/+PDZt2oStW7eie/fuGD16NGbPnl2h9RJR9WGYIXoGtWzZEnv37tUq27t3L1xcXGBkZAQAsLGxwZUrV6TpGRkZWkcmgPtPVB84cCAGDhyI/v37o1evXrhx4wbat2+Pq1evwtjYWGscTUUNGjQIH374IdLS0rTGzZSWluKrr75Cq1atpHI3NzfUrVsXn332Gdzd3VG7dm0EBARg5syZuHnzps54mUdp3749Tp48qRMGK8LGxgbh4eEIDw+Hr68vJk2apBVmDHXhwgVcvnwZjo6OAIB9+/ZBqVSiRYsWlV4m0fOIYYboGTRhwgS8+OKL+PTTTzFw4ECkpKTg22+/xXfffSfV6datG7799lt4e3ujpKQEH3zwgdaRhblz58LBwQEeHh5QKpVYs2YN7O3tYWVlhcDAQHh7eyMkJASzZs2Ci4sLLl++jI0bN+LVV1/VOUXzsPHjx+P3339HcHAw5syZAy8vL2RlZWH69OlIT0/Htm3bpCMbCoUCfn5+WLlyJSZOnAjg/umcgoICbN++HVFRUQbtm6lTp+Lll19Go0aN0L9/fyiVSqSlpeHo0aP47LPPyp3P09MTrVu3RkFBATZs2ICWLVsatO6HqdVqhIeHY/bs2cjJycGYMWMQGhoKe3v7x1ou0fOGY2aInkHt27fH6tWrsWrVKrRp0wZTp07FJ598gmHDhkl15syZAycnJ/j6+mLIkCGYOHGi1ukaCwsLzJo1Cx06dMCLL76IzMxMbNq0CUqlEgqFAps2bYKfnx8iIiLg4uKCQYMG4fz587Czs3tk+9RqNXbs2IGwsDBMmTIFzZs3R69evWBkZIR9+/ahU6dOWvX9/f1RUlIiHYVRKpXw8/ODQqHQGS/zKEFBQdiwYQMSExPx4osvolOnTvjqq6/QuHHjcuczNTVFdHQ02rZtCz8/PxgZGWHVqlUGrfthzZs3R79+/fDSSy+hZ8+eaNu2rVbgJKKKUYiKjsIjIqIqM23aNKxfv77cRyAQUcXwyAwRERHJGsMMEVW51q1ba136/OC/lStXPunmEdEzhqeZiKjKnT9/vsznGdnZ2cHCwqKGW0REzzKGGSIiIpI1nmYiIiIiWWOYISIiIlljmCEiIiJZY5ghIiIiWWOYISIiIlljmCEiIiJZY5ghIiIiWft/2Ftoo/qe/PYAAAAASUVORK5CYII=",
      "text/plain": [
       "<Figure size 640x480 with 1 Axes>"
      ]
     },
     "metadata": {},
     "output_type": "display_data"
    }
   ],
   "source": [
    "df.boxplot(column='Income', by='House_Ownership')\n",
    "plt.title('Income Distribution by House Ownership')\n",
    "plt.show()\n",
    "\n"
   ]
  },
  {
   "cell_type": "markdown",
   "metadata": {},
   "source": [
    "The box plots facilitate the understanding of income distribution disparities among different categories of house ownership. Analyzing these plots can reveal income variations or central tendencies based on the ownership status of the house."
   ]
  },
  {
   "cell_type": "markdown",
   "metadata": {},
   "source": [
    "## **7. Preproceesing Data**"
   ]
  },
  {
   "cell_type": "markdown",
   "metadata": {},
   "source": [
    "### 7.1 - Changing values\n",
    "The values in the columns that have categorical values, so it has to be converted into Ordinal values to train the machine."
   ]
  },
  {
   "cell_type": "markdown",
   "metadata": {},
   "source": [
    "#### 7.1.1 - Importing LabelEncoder"
   ]
  },
  {
   "cell_type": "code",
   "execution_count": 31,
   "metadata": {},
   "outputs": [],
   "source": [
    "from sklearn.preprocessing import LabelEncoder\n",
    "label=LabelEncoder()"
   ]
  },
  {
   "cell_type": "markdown",
   "metadata": {},
   "source": [
    "The Label Encoder technique from the `sklearn.preprocessing` module facilitates the transformation of categorical labels into numerical representations.\n",
    " This transformation facilitates the utilization of categorical data in machine learning algorithm that require numerical inputs."
   ]
  },
  {
   "cell_type": "markdown",
   "metadata": {},
   "source": [
    "#### 7.1.2 - Changing Values"
   ]
  },
  {
   "cell_type": "code",
   "execution_count": 32,
   "metadata": {},
   "outputs": [
    {
     "name": "stdout",
     "output_type": "stream",
     "text": [
      "Married/Single: [1 0]\n",
      "House_Ownership: [2 0 1]\n",
      "Car_Ownership: [0 1]\n",
      "Profession: [ 6 14  8 10  7  1  4  5  0 11  9  2 13 12  3]\n",
      "CITY: [251 227   8  54 296 130 299 134 165 149 113   0  91 163 178  21 145  55\n",
      " 274  12 264   3   6 218 191  15 126 233 268  70 106 154 255 103  16 303\n",
      " 121  25 119 267 155  57  38  75 237  59 228 181 254  89 141 273   1 291\n",
      " 118 206 217 223  20 265  35 202 146 116  40 135 123  56 166 276 285   5\n",
      "  23  81  90 305   9 278  39  98 277 200 239 244  14 151 167 311 182 160\n",
      " 203 205 281  77  42 275 188  87  45 101 168  69  86 224  51 194 144 104\n",
      " 226 272  63 229 246 220 192   7 263 196 131 129 307 150  74 234 124 315\n",
      " 138  64 210  71 137  83 105  97 240 159 309  37 298 301  73 170 110 199\n",
      "  24  46  22 198 297 197 184 211 142  17 157  13   2 249 284  80  53 115\n",
      " 252  88 164  30 269 294 312  94 209 176 293 204 100  67 133 143  82  43\n",
      "  31  96 231  10 107 290  92 310 222 195  28 283  65 230 186 183  11 179\n",
      " 180 117  58  93 173 288  32  18 102  36 187 242 256 214  47 193 175 190\n",
      " 221 212 189 125 162 258 304 177 127 132 174  34  99  19  78 236 262 280\n",
      " 241 139  76 215 208  79 140 248 169 108 114 172 232 243 207 216 158 136\n",
      "  61 259  85 253 292  84 213 314 148 128  26  49  33 271  66 153 289 245\n",
      " 316 279 261 270  29  52 247 306 260 120  60 266 282 313  44 286 295 257\n",
      " 185 109 122 111  72 300 308   4  95  48 156  41  50  62 147 238 235 302\n",
      " 201 225 171 287  27 219 250 112 152  68 161]\n",
      "STATE: [13 14 12 17 22  6 20 23  2  0 28  7 18 11 25  8 19 24 27 10 16  1  9  5\n",
      "  4  3 26 15 21]\n",
      "zone: [4 2 0 3 1]\n"
     ]
    }
   ],
   "source": [
    "from sklearn import preprocessing\n",
    "for col in df.select_dtypes(include=['object']).columns:\n",
    "    label_encoder = preprocessing.LabelEncoder()\n",
    "    label_encoder.fit(df[col].unique())\n",
    "    df[col] = label_encoder.transform(df[col])\n",
    "    print(f\"{col}: {df[col].unique()}\")"
   ]
  },
  {
   "cell_type": "markdown",
   "metadata": {},
   "source": [
    "This code iterates through each column in the DataFrame where the data type is 'object'.\n",
    "- For each column, a `LabelEncoder` object is initialized and fitted to its unique values.\n",
    "- The code displays the column names along with their corresponding unique encoded values after transformation."
   ]
  },
  {
   "cell_type": "code",
   "execution_count": 33,
   "metadata": {},
   "outputs": [
    {
     "data": {
      "text/html": [
       "<div>\n",
       "<style scoped>\n",
       "    .dataframe tbody tr th:only-of-type {\n",
       "        vertical-align: middle;\n",
       "    }\n",
       "\n",
       "    .dataframe tbody tr th {\n",
       "        vertical-align: top;\n",
       "    }\n",
       "\n",
       "    .dataframe thead th {\n",
       "        text-align: right;\n",
       "    }\n",
       "</style>\n",
       "<table border=\"1\" class=\"dataframe\">\n",
       "  <thead>\n",
       "    <tr style=\"text-align: right;\">\n",
       "      <th></th>\n",
       "      <th>Income</th>\n",
       "      <th>Age</th>\n",
       "      <th>Experience</th>\n",
       "      <th>Married/Single</th>\n",
       "      <th>House_Ownership</th>\n",
       "      <th>Car_Ownership</th>\n",
       "      <th>Profession</th>\n",
       "      <th>CITY</th>\n",
       "      <th>STATE</th>\n",
       "      <th>CURRENT_JOB_YRS</th>\n",
       "      <th>CURRENT_HOUSE_YRS</th>\n",
       "      <th>Risk_Flag</th>\n",
       "      <th>zone</th>\n",
       "    </tr>\n",
       "  </thead>\n",
       "  <tbody>\n",
       "    <tr>\n",
       "      <th>0</th>\n",
       "      <td>1303834</td>\n",
       "      <td>23</td>\n",
       "      <td>3</td>\n",
       "      <td>1</td>\n",
       "      <td>2</td>\n",
       "      <td>0</td>\n",
       "      <td>6</td>\n",
       "      <td>251</td>\n",
       "      <td>13</td>\n",
       "      <td>3</td>\n",
       "      <td>13</td>\n",
       "      <td>0</td>\n",
       "      <td>4</td>\n",
       "    </tr>\n",
       "    <tr>\n",
       "      <th>1</th>\n",
       "      <td>7574516</td>\n",
       "      <td>40</td>\n",
       "      <td>10</td>\n",
       "      <td>1</td>\n",
       "      <td>2</td>\n",
       "      <td>0</td>\n",
       "      <td>14</td>\n",
       "      <td>227</td>\n",
       "      <td>14</td>\n",
       "      <td>9</td>\n",
       "      <td>13</td>\n",
       "      <td>0</td>\n",
       "      <td>4</td>\n",
       "    </tr>\n",
       "    <tr>\n",
       "      <th>2</th>\n",
       "      <td>3991815</td>\n",
       "      <td>66</td>\n",
       "      <td>4</td>\n",
       "      <td>0</td>\n",
       "      <td>2</td>\n",
       "      <td>0</td>\n",
       "      <td>14</td>\n",
       "      <td>8</td>\n",
       "      <td>12</td>\n",
       "      <td>4</td>\n",
       "      <td>10</td>\n",
       "      <td>0</td>\n",
       "      <td>2</td>\n",
       "    </tr>\n",
       "    <tr>\n",
       "      <th>3</th>\n",
       "      <td>6256451</td>\n",
       "      <td>41</td>\n",
       "      <td>2</td>\n",
       "      <td>1</td>\n",
       "      <td>2</td>\n",
       "      <td>1</td>\n",
       "      <td>14</td>\n",
       "      <td>54</td>\n",
       "      <td>17</td>\n",
       "      <td>2</td>\n",
       "      <td>12</td>\n",
       "      <td>1</td>\n",
       "      <td>0</td>\n",
       "    </tr>\n",
       "    <tr>\n",
       "      <th>4</th>\n",
       "      <td>5768871</td>\n",
       "      <td>47</td>\n",
       "      <td>11</td>\n",
       "      <td>1</td>\n",
       "      <td>2</td>\n",
       "      <td>0</td>\n",
       "      <td>8</td>\n",
       "      <td>296</td>\n",
       "      <td>22</td>\n",
       "      <td>3</td>\n",
       "      <td>14</td>\n",
       "      <td>1</td>\n",
       "      <td>2</td>\n",
       "    </tr>\n",
       "    <tr>\n",
       "      <th>5</th>\n",
       "      <td>6915937</td>\n",
       "      <td>64</td>\n",
       "      <td>0</td>\n",
       "      <td>1</td>\n",
       "      <td>2</td>\n",
       "      <td>0</td>\n",
       "      <td>8</td>\n",
       "      <td>130</td>\n",
       "      <td>14</td>\n",
       "      <td>0</td>\n",
       "      <td>12</td>\n",
       "      <td>0</td>\n",
       "      <td>4</td>\n",
       "    </tr>\n",
       "    <tr>\n",
       "      <th>6</th>\n",
       "      <td>3954973</td>\n",
       "      <td>58</td>\n",
       "      <td>14</td>\n",
       "      <td>0</td>\n",
       "      <td>2</td>\n",
       "      <td>0</td>\n",
       "      <td>10</td>\n",
       "      <td>299</td>\n",
       "      <td>22</td>\n",
       "      <td>8</td>\n",
       "      <td>12</td>\n",
       "      <td>0</td>\n",
       "      <td>2</td>\n",
       "    </tr>\n",
       "    <tr>\n",
       "      <th>7</th>\n",
       "      <td>1706172</td>\n",
       "      <td>33</td>\n",
       "      <td>2</td>\n",
       "      <td>1</td>\n",
       "      <td>2</td>\n",
       "      <td>0</td>\n",
       "      <td>7</td>\n",
       "      <td>134</td>\n",
       "      <td>6</td>\n",
       "      <td>2</td>\n",
       "      <td>14</td>\n",
       "      <td>0</td>\n",
       "      <td>4</td>\n",
       "    </tr>\n",
       "    <tr>\n",
       "      <th>8</th>\n",
       "      <td>7566849</td>\n",
       "      <td>24</td>\n",
       "      <td>17</td>\n",
       "      <td>1</td>\n",
       "      <td>2</td>\n",
       "      <td>1</td>\n",
       "      <td>1</td>\n",
       "      <td>165</td>\n",
       "      <td>20</td>\n",
       "      <td>11</td>\n",
       "      <td>11</td>\n",
       "      <td>0</td>\n",
       "      <td>4</td>\n",
       "    </tr>\n",
       "    <tr>\n",
       "      <th>9</th>\n",
       "      <td>8964846</td>\n",
       "      <td>23</td>\n",
       "      <td>12</td>\n",
       "      <td>1</td>\n",
       "      <td>2</td>\n",
       "      <td>0</td>\n",
       "      <td>4</td>\n",
       "      <td>149</td>\n",
       "      <td>23</td>\n",
       "      <td>5</td>\n",
       "      <td>13</td>\n",
       "      <td>0</td>\n",
       "      <td>2</td>\n",
       "    </tr>\n",
       "    <tr>\n",
       "      <th>10</th>\n",
       "      <td>4634680</td>\n",
       "      <td>78</td>\n",
       "      <td>7</td>\n",
       "      <td>1</td>\n",
       "      <td>2</td>\n",
       "      <td>0</td>\n",
       "      <td>1</td>\n",
       "      <td>113</td>\n",
       "      <td>2</td>\n",
       "      <td>7</td>\n",
       "      <td>12</td>\n",
       "      <td>0</td>\n",
       "      <td>0</td>\n",
       "    </tr>\n",
       "    <tr>\n",
       "      <th>11</th>\n",
       "      <td>6623263</td>\n",
       "      <td>22</td>\n",
       "      <td>4</td>\n",
       "      <td>1</td>\n",
       "      <td>2</td>\n",
       "      <td>0</td>\n",
       "      <td>4</td>\n",
       "      <td>0</td>\n",
       "      <td>0</td>\n",
       "      <td>4</td>\n",
       "      <td>14</td>\n",
       "      <td>0</td>\n",
       "      <td>3</td>\n",
       "    </tr>\n",
       "    <tr>\n",
       "      <th>12</th>\n",
       "      <td>9120988</td>\n",
       "      <td>28</td>\n",
       "      <td>9</td>\n",
       "      <td>1</td>\n",
       "      <td>2</td>\n",
       "      <td>0</td>\n",
       "      <td>5</td>\n",
       "      <td>91</td>\n",
       "      <td>22</td>\n",
       "      <td>9</td>\n",
       "      <td>12</td>\n",
       "      <td>0</td>\n",
       "      <td>2</td>\n",
       "    </tr>\n",
       "    <tr>\n",
       "      <th>13</th>\n",
       "      <td>8043880</td>\n",
       "      <td>57</td>\n",
       "      <td>12</td>\n",
       "      <td>1</td>\n",
       "      <td>2</td>\n",
       "      <td>0</td>\n",
       "      <td>7</td>\n",
       "      <td>163</td>\n",
       "      <td>12</td>\n",
       "      <td>8</td>\n",
       "      <td>10</td>\n",
       "      <td>0</td>\n",
       "      <td>2</td>\n",
       "    </tr>\n",
       "    <tr>\n",
       "      <th>14</th>\n",
       "      <td>9420838</td>\n",
       "      <td>48</td>\n",
       "      <td>6</td>\n",
       "      <td>1</td>\n",
       "      <td>2</td>\n",
       "      <td>0</td>\n",
       "      <td>14</td>\n",
       "      <td>178</td>\n",
       "      <td>22</td>\n",
       "      <td>6</td>\n",
       "      <td>10</td>\n",
       "      <td>1</td>\n",
       "      <td>2</td>\n",
       "    </tr>\n",
       "  </tbody>\n",
       "</table>\n",
       "</div>"
      ],
      "text/plain": [
       "     Income  Age  Experience  Married/Single  House_Ownership  Car_Ownership  \\\n",
       "0   1303834   23           3               1                2              0   \n",
       "1   7574516   40          10               1                2              0   \n",
       "2   3991815   66           4               0                2              0   \n",
       "3   6256451   41           2               1                2              1   \n",
       "4   5768871   47          11               1                2              0   \n",
       "5   6915937   64           0               1                2              0   \n",
       "6   3954973   58          14               0                2              0   \n",
       "7   1706172   33           2               1                2              0   \n",
       "8   7566849   24          17               1                2              1   \n",
       "9   8964846   23          12               1                2              0   \n",
       "10  4634680   78           7               1                2              0   \n",
       "11  6623263   22           4               1                2              0   \n",
       "12  9120988   28           9               1                2              0   \n",
       "13  8043880   57          12               1                2              0   \n",
       "14  9420838   48           6               1                2              0   \n",
       "\n",
       "    Profession  CITY  STATE  CURRENT_JOB_YRS  CURRENT_HOUSE_YRS  Risk_Flag  \\\n",
       "0            6   251     13                3                 13          0   \n",
       "1           14   227     14                9                 13          0   \n",
       "2           14     8     12                4                 10          0   \n",
       "3           14    54     17                2                 12          1   \n",
       "4            8   296     22                3                 14          1   \n",
       "5            8   130     14                0                 12          0   \n",
       "6           10   299     22                8                 12          0   \n",
       "7            7   134      6                2                 14          0   \n",
       "8            1   165     20               11                 11          0   \n",
       "9            4   149     23                5                 13          0   \n",
       "10           1   113      2                7                 12          0   \n",
       "11           4     0      0                4                 14          0   \n",
       "12           5    91     22                9                 12          0   \n",
       "13           7   163     12                8                 10          0   \n",
       "14          14   178     22                6                 10          1   \n",
       "\n",
       "    zone  \n",
       "0      4  \n",
       "1      4  \n",
       "2      2  \n",
       "3      0  \n",
       "4      2  \n",
       "5      4  \n",
       "6      2  \n",
       "7      4  \n",
       "8      4  \n",
       "9      2  \n",
       "10     0  \n",
       "11     3  \n",
       "12     2  \n",
       "13     2  \n",
       "14     2  "
      ]
     },
     "execution_count": 33,
     "metadata": {},
     "output_type": "execute_result"
    }
   ],
   "source": [
    "df.head(15)"
   ]
  },
  {
   "cell_type": "markdown",
   "metadata": {},
   "source": [
    "### 7.2 - Dividing the data for training and testing"
   ]
  },
  {
   "cell_type": "markdown",
   "metadata": {},
   "source": [
    "#### 7.2.1 Seperating train and target values"
   ]
  },
  {
   "cell_type": "code",
   "execution_count": 34,
   "metadata": {},
   "outputs": [],
   "source": [
    "target=df.Risk_Flag"
   ]
  },
  {
   "cell_type": "code",
   "execution_count": 35,
   "metadata": {},
   "outputs": [],
   "source": [
    "df=df.drop('Risk_Flag',axis=1)"
   ]
  },
  {
   "cell_type": "markdown",
   "metadata": {},
   "source": [
    "By separating the target variable, it becomes feasible to train predictive models using the remaining features to predict or classify the target variable accurately."
   ]
  },
  {
   "cell_type": "code",
   "execution_count": 36,
   "metadata": {},
   "outputs": [
    {
     "data": {
      "text/html": [
       "<div>\n",
       "<style scoped>\n",
       "    .dataframe tbody tr th:only-of-type {\n",
       "        vertical-align: middle;\n",
       "    }\n",
       "\n",
       "    .dataframe tbody tr th {\n",
       "        vertical-align: top;\n",
       "    }\n",
       "\n",
       "    .dataframe thead th {\n",
       "        text-align: right;\n",
       "    }\n",
       "</style>\n",
       "<table border=\"1\" class=\"dataframe\">\n",
       "  <thead>\n",
       "    <tr style=\"text-align: right;\">\n",
       "      <th></th>\n",
       "      <th>Income</th>\n",
       "      <th>Age</th>\n",
       "      <th>Experience</th>\n",
       "      <th>Married/Single</th>\n",
       "      <th>House_Ownership</th>\n",
       "      <th>Car_Ownership</th>\n",
       "      <th>Profession</th>\n",
       "      <th>CITY</th>\n",
       "      <th>STATE</th>\n",
       "      <th>CURRENT_JOB_YRS</th>\n",
       "      <th>CURRENT_HOUSE_YRS</th>\n",
       "      <th>zone</th>\n",
       "    </tr>\n",
       "  </thead>\n",
       "  <tbody>\n",
       "    <tr>\n",
       "      <th>0</th>\n",
       "      <td>1303834</td>\n",
       "      <td>23</td>\n",
       "      <td>3</td>\n",
       "      <td>1</td>\n",
       "      <td>2</td>\n",
       "      <td>0</td>\n",
       "      <td>6</td>\n",
       "      <td>251</td>\n",
       "      <td>13</td>\n",
       "      <td>3</td>\n",
       "      <td>13</td>\n",
       "      <td>4</td>\n",
       "    </tr>\n",
       "    <tr>\n",
       "      <th>1</th>\n",
       "      <td>7574516</td>\n",
       "      <td>40</td>\n",
       "      <td>10</td>\n",
       "      <td>1</td>\n",
       "      <td>2</td>\n",
       "      <td>0</td>\n",
       "      <td>14</td>\n",
       "      <td>227</td>\n",
       "      <td>14</td>\n",
       "      <td>9</td>\n",
       "      <td>13</td>\n",
       "      <td>4</td>\n",
       "    </tr>\n",
       "    <tr>\n",
       "      <th>2</th>\n",
       "      <td>3991815</td>\n",
       "      <td>66</td>\n",
       "      <td>4</td>\n",
       "      <td>0</td>\n",
       "      <td>2</td>\n",
       "      <td>0</td>\n",
       "      <td>14</td>\n",
       "      <td>8</td>\n",
       "      <td>12</td>\n",
       "      <td>4</td>\n",
       "      <td>10</td>\n",
       "      <td>2</td>\n",
       "    </tr>\n",
       "    <tr>\n",
       "      <th>3</th>\n",
       "      <td>6256451</td>\n",
       "      <td>41</td>\n",
       "      <td>2</td>\n",
       "      <td>1</td>\n",
       "      <td>2</td>\n",
       "      <td>1</td>\n",
       "      <td>14</td>\n",
       "      <td>54</td>\n",
       "      <td>17</td>\n",
       "      <td>2</td>\n",
       "      <td>12</td>\n",
       "      <td>0</td>\n",
       "    </tr>\n",
       "    <tr>\n",
       "      <th>4</th>\n",
       "      <td>5768871</td>\n",
       "      <td>47</td>\n",
       "      <td>11</td>\n",
       "      <td>1</td>\n",
       "      <td>2</td>\n",
       "      <td>0</td>\n",
       "      <td>8</td>\n",
       "      <td>296</td>\n",
       "      <td>22</td>\n",
       "      <td>3</td>\n",
       "      <td>14</td>\n",
       "      <td>2</td>\n",
       "    </tr>\n",
       "  </tbody>\n",
       "</table>\n",
       "</div>"
      ],
      "text/plain": [
       "    Income  Age  Experience  Married/Single  House_Ownership  Car_Ownership  \\\n",
       "0  1303834   23           3               1                2              0   \n",
       "1  7574516   40          10               1                2              0   \n",
       "2  3991815   66           4               0                2              0   \n",
       "3  6256451   41           2               1                2              1   \n",
       "4  5768871   47          11               1                2              0   \n",
       "\n",
       "   Profession  CITY  STATE  CURRENT_JOB_YRS  CURRENT_HOUSE_YRS  zone  \n",
       "0           6   251     13                3                 13     4  \n",
       "1          14   227     14                9                 13     4  \n",
       "2          14     8     12                4                 10     2  \n",
       "3          14    54     17                2                 12     0  \n",
       "4           8   296     22                3                 14     2  "
      ]
     },
     "execution_count": 36,
     "metadata": {},
     "output_type": "execute_result"
    }
   ],
   "source": [
    "df.head()"
   ]
  },
  {
   "cell_type": "code",
   "execution_count": 37,
   "metadata": {},
   "outputs": [],
   "source": [
    "from sklearn.model_selection import train_test_split\n",
    "from sklearn.metrics import accuracy_score\n",
    "x=df\n",
    "y=target\n",
    "x_train,x_test,y_train,y_test=train_test_split(x,y,test_size=0.4,random_state=0)"
   ]
  },
  {
   "cell_type": "markdown",
   "metadata": {},
   "source": [
    "train_test_split function divides the dataset into training and testing sets:\n",
    "- **x_train**: Features for the training set.\n",
    "- **x_test**: Features for the testing set.\n",
    "- **y_train**: Target variable for the training set.\n",
    "- **y_test**: Target variable for the testing set.\n",
    "- **test_size=0.4**: Allocates 40% of the data for the testing set, leaving 60% for the training set.\n",
    "- The training set (x_train and y_train) is used to train the model.\n",
    "- The testing set (x_test and y_test) is utilized to evaluate the model's performance."
   ]
  },
  {
   "cell_type": "markdown",
   "metadata": {},
   "source": [
    "## **8. Making models and checking accuracy**"
   ]
  },
  {
   "cell_type": "markdown",
   "metadata": {},
   "source": [
    "### 8.1 - **Logistic Regression**"
   ]
  },
  {
   "cell_type": "code",
   "execution_count": 38,
   "metadata": {},
   "outputs": [
    {
     "data": {
      "text/html": [
       "<style>#sk-container-id-1 {color: black;}#sk-container-id-1 pre{padding: 0;}#sk-container-id-1 div.sk-toggleable {background-color: white;}#sk-container-id-1 label.sk-toggleable__label {cursor: pointer;display: block;width: 100%;margin-bottom: 0;padding: 0.3em;box-sizing: border-box;text-align: center;}#sk-container-id-1 label.sk-toggleable__label-arrow:before {content: \"▸\";float: left;margin-right: 0.25em;color: #696969;}#sk-container-id-1 label.sk-toggleable__label-arrow:hover:before {color: black;}#sk-container-id-1 div.sk-estimator:hover label.sk-toggleable__label-arrow:before {color: black;}#sk-container-id-1 div.sk-toggleable__content {max-height: 0;max-width: 0;overflow: hidden;text-align: left;background-color: #f0f8ff;}#sk-container-id-1 div.sk-toggleable__content pre {margin: 0.2em;color: black;border-radius: 0.25em;background-color: #f0f8ff;}#sk-container-id-1 input.sk-toggleable__control:checked~div.sk-toggleable__content {max-height: 200px;max-width: 100%;overflow: auto;}#sk-container-id-1 input.sk-toggleable__control:checked~label.sk-toggleable__label-arrow:before {content: \"▾\";}#sk-container-id-1 div.sk-estimator input.sk-toggleable__control:checked~label.sk-toggleable__label {background-color: #d4ebff;}#sk-container-id-1 div.sk-label input.sk-toggleable__control:checked~label.sk-toggleable__label {background-color: #d4ebff;}#sk-container-id-1 input.sk-hidden--visually {border: 0;clip: rect(1px 1px 1px 1px);clip: rect(1px, 1px, 1px, 1px);height: 1px;margin: -1px;overflow: hidden;padding: 0;position: absolute;width: 1px;}#sk-container-id-1 div.sk-estimator {font-family: monospace;background-color: #f0f8ff;border: 1px dotted black;border-radius: 0.25em;box-sizing: border-box;margin-bottom: 0.5em;}#sk-container-id-1 div.sk-estimator:hover {background-color: #d4ebff;}#sk-container-id-1 div.sk-parallel-item::after {content: \"\";width: 100%;border-bottom: 1px solid gray;flex-grow: 1;}#sk-container-id-1 div.sk-label:hover label.sk-toggleable__label {background-color: #d4ebff;}#sk-container-id-1 div.sk-serial::before {content: \"\";position: absolute;border-left: 1px solid gray;box-sizing: border-box;top: 0;bottom: 0;left: 50%;z-index: 0;}#sk-container-id-1 div.sk-serial {display: flex;flex-direction: column;align-items: center;background-color: white;padding-right: 0.2em;padding-left: 0.2em;position: relative;}#sk-container-id-1 div.sk-item {position: relative;z-index: 1;}#sk-container-id-1 div.sk-parallel {display: flex;align-items: stretch;justify-content: center;background-color: white;position: relative;}#sk-container-id-1 div.sk-item::before, #sk-container-id-1 div.sk-parallel-item::before {content: \"\";position: absolute;border-left: 1px solid gray;box-sizing: border-box;top: 0;bottom: 0;left: 50%;z-index: -1;}#sk-container-id-1 div.sk-parallel-item {display: flex;flex-direction: column;z-index: 1;position: relative;background-color: white;}#sk-container-id-1 div.sk-parallel-item:first-child::after {align-self: flex-end;width: 50%;}#sk-container-id-1 div.sk-parallel-item:last-child::after {align-self: flex-start;width: 50%;}#sk-container-id-1 div.sk-parallel-item:only-child::after {width: 0;}#sk-container-id-1 div.sk-dashed-wrapped {border: 1px dashed gray;margin: 0 0.4em 0.5em 0.4em;box-sizing: border-box;padding-bottom: 0.4em;background-color: white;}#sk-container-id-1 div.sk-label label {font-family: monospace;font-weight: bold;display: inline-block;line-height: 1.2em;}#sk-container-id-1 div.sk-label-container {text-align: center;}#sk-container-id-1 div.sk-container {/* jupyter's `normalize.less` sets `[hidden] { display: none; }` but bootstrap.min.css set `[hidden] { display: none !important; }` so we also need the `!important` here to be able to override the default hidden behavior on the sphinx rendered scikit-learn.org. See: https://github.com/scikit-learn/scikit-learn/issues/21755 */display: inline-block !important;position: relative;}#sk-container-id-1 div.sk-text-repr-fallback {display: none;}</style><div id=\"sk-container-id-1\" class=\"sk-top-container\"><div class=\"sk-text-repr-fallback\"><pre>LogisticRegression()</pre><b>In a Jupyter environment, please rerun this cell to show the HTML representation or trust the notebook. <br />On GitHub, the HTML representation is unable to render, please try loading this page with nbviewer.org.</b></div><div class=\"sk-container\" hidden><div class=\"sk-item\"><div class=\"sk-estimator sk-toggleable\"><input class=\"sk-toggleable__control sk-hidden--visually\" id=\"sk-estimator-id-1\" type=\"checkbox\" checked><label for=\"sk-estimator-id-1\" class=\"sk-toggleable__label sk-toggleable__label-arrow\">LogisticRegression</label><div class=\"sk-toggleable__content\"><pre>LogisticRegression()</pre></div></div></div></div></div>"
      ],
      "text/plain": [
       "LogisticRegression()"
      ]
     },
     "execution_count": 38,
     "metadata": {},
     "output_type": "execute_result"
    }
   ],
   "source": [
    "from sklearn.linear_model import LogisticRegression\n",
    "reg = LogisticRegression()\n",
    "reg.fit(x_train,y_train)"
   ]
  },
  {
   "cell_type": "markdown",
   "metadata": {},
   "source": [
    "Here , we are training the logistic regression model . So during the training the model is learning the relatioships between the target variable and other variables from the training data.\n",
    "- The fit() function here adjust the model's parameters to best fit training data and enabling it to make predictions on new data based on the learned patterns."
   ]
  },
  {
   "cell_type": "markdown",
   "metadata": {},
   "source": [
    "### 8.2 - Logistic Regression Model Evaluation - **Accuracy Score**"
   ]
  },
  {
   "cell_type": "code",
   "execution_count": 39,
   "metadata": {},
   "outputs": [
    {
     "name": "stdout",
     "output_type": "stream",
     "text": [
      "87.75595238095238 %\n"
     ]
    }
   ],
   "source": [
    "pred=reg.predict(x_test)\n",
    "score=accuracy_score(pred,y_test)\n",
    "print(score * 100,'%')"
   ]
  },
  {
   "cell_type": "markdown",
   "metadata": {},
   "source": [
    "The output, '87.76%', represents the accuracy of the Logistic Regression model's predictions on the test set.\n",
    "- This score implies that approximately 87.76% of the model's predictions align with the true labels present in the test dataset which is good."
   ]
  },
  {
   "cell_type": "markdown",
   "metadata": {},
   "source": [
    "### **9 - Decision Tree Classsifier**"
   ]
  },
  {
   "cell_type": "code",
   "execution_count": 40,
   "metadata": {},
   "outputs": [
    {
     "data": {
      "text/html": [
       "<style>#sk-container-id-2 {color: black;}#sk-container-id-2 pre{padding: 0;}#sk-container-id-2 div.sk-toggleable {background-color: white;}#sk-container-id-2 label.sk-toggleable__label {cursor: pointer;display: block;width: 100%;margin-bottom: 0;padding: 0.3em;box-sizing: border-box;text-align: center;}#sk-container-id-2 label.sk-toggleable__label-arrow:before {content: \"▸\";float: left;margin-right: 0.25em;color: #696969;}#sk-container-id-2 label.sk-toggleable__label-arrow:hover:before {color: black;}#sk-container-id-2 div.sk-estimator:hover label.sk-toggleable__label-arrow:before {color: black;}#sk-container-id-2 div.sk-toggleable__content {max-height: 0;max-width: 0;overflow: hidden;text-align: left;background-color: #f0f8ff;}#sk-container-id-2 div.sk-toggleable__content pre {margin: 0.2em;color: black;border-radius: 0.25em;background-color: #f0f8ff;}#sk-container-id-2 input.sk-toggleable__control:checked~div.sk-toggleable__content {max-height: 200px;max-width: 100%;overflow: auto;}#sk-container-id-2 input.sk-toggleable__control:checked~label.sk-toggleable__label-arrow:before {content: \"▾\";}#sk-container-id-2 div.sk-estimator input.sk-toggleable__control:checked~label.sk-toggleable__label {background-color: #d4ebff;}#sk-container-id-2 div.sk-label input.sk-toggleable__control:checked~label.sk-toggleable__label {background-color: #d4ebff;}#sk-container-id-2 input.sk-hidden--visually {border: 0;clip: rect(1px 1px 1px 1px);clip: rect(1px, 1px, 1px, 1px);height: 1px;margin: -1px;overflow: hidden;padding: 0;position: absolute;width: 1px;}#sk-container-id-2 div.sk-estimator {font-family: monospace;background-color: #f0f8ff;border: 1px dotted black;border-radius: 0.25em;box-sizing: border-box;margin-bottom: 0.5em;}#sk-container-id-2 div.sk-estimator:hover {background-color: #d4ebff;}#sk-container-id-2 div.sk-parallel-item::after {content: \"\";width: 100%;border-bottom: 1px solid gray;flex-grow: 1;}#sk-container-id-2 div.sk-label:hover label.sk-toggleable__label {background-color: #d4ebff;}#sk-container-id-2 div.sk-serial::before {content: \"\";position: absolute;border-left: 1px solid gray;box-sizing: border-box;top: 0;bottom: 0;left: 50%;z-index: 0;}#sk-container-id-2 div.sk-serial {display: flex;flex-direction: column;align-items: center;background-color: white;padding-right: 0.2em;padding-left: 0.2em;position: relative;}#sk-container-id-2 div.sk-item {position: relative;z-index: 1;}#sk-container-id-2 div.sk-parallel {display: flex;align-items: stretch;justify-content: center;background-color: white;position: relative;}#sk-container-id-2 div.sk-item::before, #sk-container-id-2 div.sk-parallel-item::before {content: \"\";position: absolute;border-left: 1px solid gray;box-sizing: border-box;top: 0;bottom: 0;left: 50%;z-index: -1;}#sk-container-id-2 div.sk-parallel-item {display: flex;flex-direction: column;z-index: 1;position: relative;background-color: white;}#sk-container-id-2 div.sk-parallel-item:first-child::after {align-self: flex-end;width: 50%;}#sk-container-id-2 div.sk-parallel-item:last-child::after {align-self: flex-start;width: 50%;}#sk-container-id-2 div.sk-parallel-item:only-child::after {width: 0;}#sk-container-id-2 div.sk-dashed-wrapped {border: 1px dashed gray;margin: 0 0.4em 0.5em 0.4em;box-sizing: border-box;padding-bottom: 0.4em;background-color: white;}#sk-container-id-2 div.sk-label label {font-family: monospace;font-weight: bold;display: inline-block;line-height: 1.2em;}#sk-container-id-2 div.sk-label-container {text-align: center;}#sk-container-id-2 div.sk-container {/* jupyter's `normalize.less` sets `[hidden] { display: none; }` but bootstrap.min.css set `[hidden] { display: none !important; }` so we also need the `!important` here to be able to override the default hidden behavior on the sphinx rendered scikit-learn.org. See: https://github.com/scikit-learn/scikit-learn/issues/21755 */display: inline-block !important;position: relative;}#sk-container-id-2 div.sk-text-repr-fallback {display: none;}</style><div id=\"sk-container-id-2\" class=\"sk-top-container\"><div class=\"sk-text-repr-fallback\"><pre>DecisionTreeClassifier(class_weight=&#x27;balanced&#x27;, max_depth=4, random_state=0)</pre><b>In a Jupyter environment, please rerun this cell to show the HTML representation or trust the notebook. <br />On GitHub, the HTML representation is unable to render, please try loading this page with nbviewer.org.</b></div><div class=\"sk-container\" hidden><div class=\"sk-item\"><div class=\"sk-estimator sk-toggleable\"><input class=\"sk-toggleable__control sk-hidden--visually\" id=\"sk-estimator-id-2\" type=\"checkbox\" checked><label for=\"sk-estimator-id-2\" class=\"sk-toggleable__label sk-toggleable__label-arrow\">DecisionTreeClassifier</label><div class=\"sk-toggleable__content\"><pre>DecisionTreeClassifier(class_weight=&#x27;balanced&#x27;, max_depth=4, random_state=0)</pre></div></div></div></div></div>"
      ],
      "text/plain": [
       "DecisionTreeClassifier(class_weight='balanced', max_depth=4, random_state=0)"
      ]
     },
     "execution_count": 40,
     "metadata": {},
     "output_type": "execute_result"
    }
   ],
   "source": [
    "from sklearn.tree import DecisionTreeClassifier\n",
    "dtree = DecisionTreeClassifier(random_state=0, max_depth=4, min_samples_leaf=1, min_samples_split=2, class_weight='balanced')\n",
    "dtree.fit(x_train, y_train)"
   ]
  },
  {
   "cell_type": "markdown",
   "metadata": {},
   "source": [
    "Here we ara training a Decision Tree classifier using the training dataset ('x_train' & 'y_train').\n",
    "- **Parameters**:\n",
    "    - class_weight='balanced': It is adjusting the class weights to handle imbalanced classes & giving fair importance to minority classes.\n",
    "    - max_depth=4: It is limiting the maximum depth of the tree to prevent overfitting .\n",
    "    - random_state=0: It is ensureing the reproducibility by initializing the random number generator.\n"
   ]
  },
  {
   "cell_type": "markdown",
   "metadata": {},
   "source": [
    "### 9.1 - Decision Tree Classifier Model Evaluation-**Accuracy Score**"
   ]
  },
  {
   "cell_type": "code",
   "execution_count": 41,
   "metadata": {},
   "outputs": [
    {
     "name": "stdout",
     "output_type": "stream",
     "text": [
      "The Accuracy Score of Decision tree : 71.07 %\n"
     ]
    }
   ],
   "source": [
    "from sklearn.metrics import accuracy_score\n",
    "pred2 = dtree.predict(x_test)\n",
    "print(\"The Accuracy Score of Decision tree :\", round(accuracy_score(y_test, pred2)*100 ,2), \"%\")"
   ]
  },
  {
   "cell_type": "markdown",
   "metadata": {},
   "source": [
    "### 9.2 - Decision Tree Classifier - **Classification Metrics Computation**"
   ]
  },
  {
   "cell_type": "code",
   "execution_count": 42,
   "metadata": {},
   "outputs": [
    {
     "name": "stdout",
     "output_type": "stream",
     "text": [
      "F-1 Score :  0.7106646825396825\n",
      "Precision Score :  0.7106646825396825\n",
      "Recall Score :  0.7106646825396825\n"
     ]
    }
   ],
   "source": [
    "from sklearn.metrics import accuracy_score, f1_score, precision_score, recall_score\n",
    "print('F-1 Score : ',(f1_score(y_test, pred2, average='micro')))\n",
    "print('Precision Score : ',(precision_score(y_test, pred2, average='micro')))\n",
    "print('Recall Score : ',(recall_score(y_test, pred2, average='micro')))\n"
   ]
  },
  {
   "cell_type": "markdown",
   "metadata": {},
   "source": [
    " These metrics help assess the classifier's ability to correctly classify instances, minimizing false predictions."
   ]
  },
  {
   "cell_type": "markdown",
   "metadata": {},
   "source": [
    "## 9.3 - Decision Tree Classifier- **Confusion matrix**"
   ]
  },
  {
   "cell_type": "code",
   "execution_count": 43,
   "metadata": {},
   "outputs": [
    {
     "name": "stdout",
     "output_type": "stream",
     "text": [
      "[[67719 20739]\n",
      " [ 8426  3916]]\n"
     ]
    }
   ],
   "source": [
    "from sklearn.metrics import confusion_matrix\n",
    "print(confusion_matrix(y_test, pred2))"
   ]
  },
  {
   "cell_type": "markdown",
   "metadata": {},
   "source": [
    "From the output we can interpert :\n",
    "- **True Positives:** [67719] instances were correctly predicted as positive.\n",
    "- **True Negatives:** [3916] instances were correctly predicted as negative.\n",
    "- **False Positives:** [20739] instances were incorrectly predicted as positive.\n",
    "- **False Negatives:** [8426] instances were incorrectly predicted as negative.\n"
   ]
  },
  {
   "cell_type": "markdown",
   "metadata": {},
   "source": [
    "## **10 - Gaussian Naive Bayes Classifier Training**"
   ]
  },
  {
   "cell_type": "code",
   "execution_count": 44,
   "metadata": {},
   "outputs": [
    {
     "data": {
      "text/html": [
       "<style>#sk-container-id-3 {color: black;}#sk-container-id-3 pre{padding: 0;}#sk-container-id-3 div.sk-toggleable {background-color: white;}#sk-container-id-3 label.sk-toggleable__label {cursor: pointer;display: block;width: 100%;margin-bottom: 0;padding: 0.3em;box-sizing: border-box;text-align: center;}#sk-container-id-3 label.sk-toggleable__label-arrow:before {content: \"▸\";float: left;margin-right: 0.25em;color: #696969;}#sk-container-id-3 label.sk-toggleable__label-arrow:hover:before {color: black;}#sk-container-id-3 div.sk-estimator:hover label.sk-toggleable__label-arrow:before {color: black;}#sk-container-id-3 div.sk-toggleable__content {max-height: 0;max-width: 0;overflow: hidden;text-align: left;background-color: #f0f8ff;}#sk-container-id-3 div.sk-toggleable__content pre {margin: 0.2em;color: black;border-radius: 0.25em;background-color: #f0f8ff;}#sk-container-id-3 input.sk-toggleable__control:checked~div.sk-toggleable__content {max-height: 200px;max-width: 100%;overflow: auto;}#sk-container-id-3 input.sk-toggleable__control:checked~label.sk-toggleable__label-arrow:before {content: \"▾\";}#sk-container-id-3 div.sk-estimator input.sk-toggleable__control:checked~label.sk-toggleable__label {background-color: #d4ebff;}#sk-container-id-3 div.sk-label input.sk-toggleable__control:checked~label.sk-toggleable__label {background-color: #d4ebff;}#sk-container-id-3 input.sk-hidden--visually {border: 0;clip: rect(1px 1px 1px 1px);clip: rect(1px, 1px, 1px, 1px);height: 1px;margin: -1px;overflow: hidden;padding: 0;position: absolute;width: 1px;}#sk-container-id-3 div.sk-estimator {font-family: monospace;background-color: #f0f8ff;border: 1px dotted black;border-radius: 0.25em;box-sizing: border-box;margin-bottom: 0.5em;}#sk-container-id-3 div.sk-estimator:hover {background-color: #d4ebff;}#sk-container-id-3 div.sk-parallel-item::after {content: \"\";width: 100%;border-bottom: 1px solid gray;flex-grow: 1;}#sk-container-id-3 div.sk-label:hover label.sk-toggleable__label {background-color: #d4ebff;}#sk-container-id-3 div.sk-serial::before {content: \"\";position: absolute;border-left: 1px solid gray;box-sizing: border-box;top: 0;bottom: 0;left: 50%;z-index: 0;}#sk-container-id-3 div.sk-serial {display: flex;flex-direction: column;align-items: center;background-color: white;padding-right: 0.2em;padding-left: 0.2em;position: relative;}#sk-container-id-3 div.sk-item {position: relative;z-index: 1;}#sk-container-id-3 div.sk-parallel {display: flex;align-items: stretch;justify-content: center;background-color: white;position: relative;}#sk-container-id-3 div.sk-item::before, #sk-container-id-3 div.sk-parallel-item::before {content: \"\";position: absolute;border-left: 1px solid gray;box-sizing: border-box;top: 0;bottom: 0;left: 50%;z-index: -1;}#sk-container-id-3 div.sk-parallel-item {display: flex;flex-direction: column;z-index: 1;position: relative;background-color: white;}#sk-container-id-3 div.sk-parallel-item:first-child::after {align-self: flex-end;width: 50%;}#sk-container-id-3 div.sk-parallel-item:last-child::after {align-self: flex-start;width: 50%;}#sk-container-id-3 div.sk-parallel-item:only-child::after {width: 0;}#sk-container-id-3 div.sk-dashed-wrapped {border: 1px dashed gray;margin: 0 0.4em 0.5em 0.4em;box-sizing: border-box;padding-bottom: 0.4em;background-color: white;}#sk-container-id-3 div.sk-label label {font-family: monospace;font-weight: bold;display: inline-block;line-height: 1.2em;}#sk-container-id-3 div.sk-label-container {text-align: center;}#sk-container-id-3 div.sk-container {/* jupyter's `normalize.less` sets `[hidden] { display: none; }` but bootstrap.min.css set `[hidden] { display: none !important; }` so we also need the `!important` here to be able to override the default hidden behavior on the sphinx rendered scikit-learn.org. See: https://github.com/scikit-learn/scikit-learn/issues/21755 */display: inline-block !important;position: relative;}#sk-container-id-3 div.sk-text-repr-fallback {display: none;}</style><div id=\"sk-container-id-3\" class=\"sk-top-container\"><div class=\"sk-text-repr-fallback\"><pre>GaussianNB()</pre><b>In a Jupyter environment, please rerun this cell to show the HTML representation or trust the notebook. <br />On GitHub, the HTML representation is unable to render, please try loading this page with nbviewer.org.</b></div><div class=\"sk-container\" hidden><div class=\"sk-item\"><div class=\"sk-estimator sk-toggleable\"><input class=\"sk-toggleable__control sk-hidden--visually\" id=\"sk-estimator-id-3\" type=\"checkbox\" checked><label for=\"sk-estimator-id-3\" class=\"sk-toggleable__label sk-toggleable__label-arrow\">GaussianNB</label><div class=\"sk-toggleable__content\"><pre>GaussianNB()</pre></div></div></div></div></div>"
      ],
      "text/plain": [
       "GaussianNB()"
      ]
     },
     "execution_count": 44,
     "metadata": {},
     "output_type": "execute_result"
    }
   ],
   "source": [
    "from sklearn.naive_bayes import GaussianNB\n",
    "classifier = GaussianNB()\n",
    "classifier.fit(x_train, y_train)"
   ]
  },
  {
   "cell_type": "markdown",
   "metadata": {},
   "source": [
    "### 10.1 - Gaussian Naive Bayes Classifier - **Test Set Prediction**"
   ]
  },
  {
   "cell_type": "code",
   "execution_count": 45,
   "metadata": {},
   "outputs": [],
   "source": [
    "pred3 = classifier.predict(x_test)"
   ]
  },
  {
   "cell_type": "markdown",
   "metadata": {},
   "source": [
    "### 10.2 - Evaluation of Gaussian Naive Bayes Classifier - **Accuracy Score**"
   ]
  },
  {
   "cell_type": "code",
   "execution_count": 46,
   "metadata": {},
   "outputs": [
    {
     "name": "stdout",
     "output_type": "stream",
     "text": [
      "The Accuracy Score of Naive bayes : 87.76 %\n"
     ]
    }
   ],
   "source": [
    "print(\"The Accuracy Score of Naive bayes :\", round(accuracy_score(y_test, pred3)*100 ,2), \"%\")"
   ]
  },
  {
   "cell_type": "markdown",
   "metadata": {},
   "source": [
    "### 10.3 - Naive Bayes Classifier -**Confusion matrix**"
   ]
  },
  {
   "cell_type": "code",
   "execution_count": 47,
   "metadata": {},
   "outputs": [
    {
     "name": "stdout",
     "output_type": "stream",
     "text": [
      "[[88458     0]\n",
      " [12342     0]]\n"
     ]
    }
   ],
   "source": [
    "print(confusion_matrix(y_test, pred3))"
   ]
  },
  {
   "cell_type": "markdown",
   "metadata": {},
   "source": [
    "From the output we can interpert :\n",
    "- **True Positives:** [88458] instances were correctly predicted as positive.\n",
    "- **True Negatives:** [0] instances were correctly predicted as negative.\n",
    "- **False Positives:** [0] instances were incorrectly predicted as positive.\n",
    "- **False Negatives:** [12342] instances were incorrectly predicted as negative.\n",
    "- The resulting confusion matrix indicates that all instances are predicted as belonging to a single class"
   ]
  },
  {
   "cell_type": "markdown",
   "metadata": {},
   "source": [
    "## **11 - Random Forest Classifier**"
   ]
  },
  {
   "cell_type": "code",
   "execution_count": 48,
   "metadata": {},
   "outputs": [
    {
     "data": {
      "text/html": [
       "<style>#sk-container-id-4 {color: black;}#sk-container-id-4 pre{padding: 0;}#sk-container-id-4 div.sk-toggleable {background-color: white;}#sk-container-id-4 label.sk-toggleable__label {cursor: pointer;display: block;width: 100%;margin-bottom: 0;padding: 0.3em;box-sizing: border-box;text-align: center;}#sk-container-id-4 label.sk-toggleable__label-arrow:before {content: \"▸\";float: left;margin-right: 0.25em;color: #696969;}#sk-container-id-4 label.sk-toggleable__label-arrow:hover:before {color: black;}#sk-container-id-4 div.sk-estimator:hover label.sk-toggleable__label-arrow:before {color: black;}#sk-container-id-4 div.sk-toggleable__content {max-height: 0;max-width: 0;overflow: hidden;text-align: left;background-color: #f0f8ff;}#sk-container-id-4 div.sk-toggleable__content pre {margin: 0.2em;color: black;border-radius: 0.25em;background-color: #f0f8ff;}#sk-container-id-4 input.sk-toggleable__control:checked~div.sk-toggleable__content {max-height: 200px;max-width: 100%;overflow: auto;}#sk-container-id-4 input.sk-toggleable__control:checked~label.sk-toggleable__label-arrow:before {content: \"▾\";}#sk-container-id-4 div.sk-estimator input.sk-toggleable__control:checked~label.sk-toggleable__label {background-color: #d4ebff;}#sk-container-id-4 div.sk-label input.sk-toggleable__control:checked~label.sk-toggleable__label {background-color: #d4ebff;}#sk-container-id-4 input.sk-hidden--visually {border: 0;clip: rect(1px 1px 1px 1px);clip: rect(1px, 1px, 1px, 1px);height: 1px;margin: -1px;overflow: hidden;padding: 0;position: absolute;width: 1px;}#sk-container-id-4 div.sk-estimator {font-family: monospace;background-color: #f0f8ff;border: 1px dotted black;border-radius: 0.25em;box-sizing: border-box;margin-bottom: 0.5em;}#sk-container-id-4 div.sk-estimator:hover {background-color: #d4ebff;}#sk-container-id-4 div.sk-parallel-item::after {content: \"\";width: 100%;border-bottom: 1px solid gray;flex-grow: 1;}#sk-container-id-4 div.sk-label:hover label.sk-toggleable__label {background-color: #d4ebff;}#sk-container-id-4 div.sk-serial::before {content: \"\";position: absolute;border-left: 1px solid gray;box-sizing: border-box;top: 0;bottom: 0;left: 50%;z-index: 0;}#sk-container-id-4 div.sk-serial {display: flex;flex-direction: column;align-items: center;background-color: white;padding-right: 0.2em;padding-left: 0.2em;position: relative;}#sk-container-id-4 div.sk-item {position: relative;z-index: 1;}#sk-container-id-4 div.sk-parallel {display: flex;align-items: stretch;justify-content: center;background-color: white;position: relative;}#sk-container-id-4 div.sk-item::before, #sk-container-id-4 div.sk-parallel-item::before {content: \"\";position: absolute;border-left: 1px solid gray;box-sizing: border-box;top: 0;bottom: 0;left: 50%;z-index: -1;}#sk-container-id-4 div.sk-parallel-item {display: flex;flex-direction: column;z-index: 1;position: relative;background-color: white;}#sk-container-id-4 div.sk-parallel-item:first-child::after {align-self: flex-end;width: 50%;}#sk-container-id-4 div.sk-parallel-item:last-child::after {align-self: flex-start;width: 50%;}#sk-container-id-4 div.sk-parallel-item:only-child::after {width: 0;}#sk-container-id-4 div.sk-dashed-wrapped {border: 1px dashed gray;margin: 0 0.4em 0.5em 0.4em;box-sizing: border-box;padding-bottom: 0.4em;background-color: white;}#sk-container-id-4 div.sk-label label {font-family: monospace;font-weight: bold;display: inline-block;line-height: 1.2em;}#sk-container-id-4 div.sk-label-container {text-align: center;}#sk-container-id-4 div.sk-container {/* jupyter's `normalize.less` sets `[hidden] { display: none; }` but bootstrap.min.css set `[hidden] { display: none !important; }` so we also need the `!important` here to be able to override the default hidden behavior on the sphinx rendered scikit-learn.org. See: https://github.com/scikit-learn/scikit-learn/issues/21755 */display: inline-block !important;position: relative;}#sk-container-id-4 div.sk-text-repr-fallback {display: none;}</style><div id=\"sk-container-id-4\" class=\"sk-top-container\"><div class=\"sk-text-repr-fallback\"><pre>RandomForestClassifier(criterion=&#x27;entropy&#x27;, n_estimators=10, random_state=0)</pre><b>In a Jupyter environment, please rerun this cell to show the HTML representation or trust the notebook. <br />On GitHub, the HTML representation is unable to render, please try loading this page with nbviewer.org.</b></div><div class=\"sk-container\" hidden><div class=\"sk-item\"><div class=\"sk-estimator sk-toggleable\"><input class=\"sk-toggleable__control sk-hidden--visually\" id=\"sk-estimator-id-4\" type=\"checkbox\" checked><label for=\"sk-estimator-id-4\" class=\"sk-toggleable__label sk-toggleable__label-arrow\">RandomForestClassifier</label><div class=\"sk-toggleable__content\"><pre>RandomForestClassifier(criterion=&#x27;entropy&#x27;, n_estimators=10, random_state=0)</pre></div></div></div></div></div>"
      ],
      "text/plain": [
       "RandomForestClassifier(criterion='entropy', n_estimators=10, random_state=0)"
      ]
     },
     "execution_count": 48,
     "metadata": {},
     "output_type": "execute_result"
    }
   ],
   "source": [
    "from sklearn.ensemble import RandomForestClassifier\n",
    "classifier = RandomForestClassifier(n_estimators = 10, criterion = 'entropy', random_state = 0)\n",
    "classifier.fit(x_train, y_train)"
   ]
  },
  {
   "cell_type": "markdown",
   "metadata": {},
   "source": [
    "### 11.1 - Random Forest Classifier - **Test Set Prediction**"
   ]
  },
  {
   "cell_type": "code",
   "execution_count": 49,
   "metadata": {},
   "outputs": [
    {
     "data": {
      "text/plain": [
       "array([0, 0, 0, ..., 0, 0, 1], dtype=int64)"
      ]
     },
     "execution_count": 49,
     "metadata": {},
     "output_type": "execute_result"
    }
   ],
   "source": [
    "pred4 = classifier.predict(x_test)\n",
    "pred4"
   ]
  },
  {
   "cell_type": "markdown",
   "metadata": {},
   "source": [
    "## 11.2 - Random Forest Classifier - **Accuracy scrore**"
   ]
  },
  {
   "cell_type": "code",
   "execution_count": 50,
   "metadata": {},
   "outputs": [
    {
     "name": "stdout",
     "output_type": "stream",
     "text": [
      "The Accuracy Score of Random Forest Classification is : 89.91 %\n"
     ]
    }
   ],
   "source": [
    "print(\"The Accuracy Score of Random Forest Classification is :\", round(accuracy_score(y_test, pred4)*100 ,2), \"%\")"
   ]
  },
  {
   "cell_type": "markdown",
   "metadata": {},
   "source": [
    "## 11.3 - Random Forest Classifier - **Classification Metrics Computation**"
   ]
  },
  {
   "cell_type": "code",
   "execution_count": 51,
   "metadata": {},
   "outputs": [
    {
     "name": "stdout",
     "output_type": "stream",
     "text": [
      "F-1 Score :  0.8991071428571429\n",
      "Precision Score :  0.8991071428571429\n",
      "Recall Score :  0.8991071428571429\n"
     ]
    }
   ],
   "source": [
    "print('F-1 Score : ',(f1_score(y_test, pred4, average='micro')))\n",
    "print('Precision Score : ',(precision_score(y_test, pred4, average='micro')))\n",
    "print('Recall Score : ',(recall_score(y_test, pred4, average='micro')))\n"
   ]
  },
  {
   "cell_type": "markdown",
   "metadata": {},
   "source": [
    "## 11.4 - Random Forest Classifier - **Confusion matrix**"
   ]
  },
  {
   "cell_type": "code",
   "execution_count": 52,
   "metadata": {},
   "outputs": [
    {
     "name": "stdout",
     "output_type": "stream",
     "text": [
      "[[84107  4351]\n",
      " [ 5819  6523]]\n"
     ]
    }
   ],
   "source": [
    "print(confusion_matrix(y_test, pred4))"
   ]
  },
  {
   "cell_type": "markdown",
   "metadata": {},
   "source": [
    "From the output we can interpert :\n",
    "- **True Positives:** [84107] instances were correctly predicted as positive.\n",
    "- **True Negatives:** [6523] instances were correctly predicted as negative.\n",
    "- **False Positives:** [4351] instances were incorrectly predicted as positive.\n",
    "- **False Negatives:** [5819] instances were incorrectly predicted as negative."
   ]
  },
  {
   "cell_type": "markdown",
   "metadata": {},
   "source": [
    "## **Conclusion:**\n",
    "  - The accuracy of Logistic Regression is: 87.75 %\n",
    "  - The accuracy of Decision Tree Classifier is: 71.07 %\n",
    "  - The accuracy of Naive Bayes is: 87.76 %\n",
    "  - The accuracy of Random Forest Classification is: 89.91 %\n",
    "- **In conclusion, Among the tested models the Random Forest Classification demonstrated the highest accuracy, indicating its potential for promising model for predicting loan approvals.**"
   ]
  }
 ],
 "metadata": {
  "kernelspec": {
   "display_name": "Python 3",
   "language": "python",
   "name": "python3"
  },
  "language_info": {
   "codemirror_mode": {
    "name": "ipython",
    "version": 3
   },
   "file_extension": ".py",
   "mimetype": "text/x-python",
   "name": "python",
   "nbconvert_exporter": "python",
   "pygments_lexer": "ipython3",
   "version": "3.11.4"
  }
 },
 "nbformat": 4,
 "nbformat_minor": 2
}
